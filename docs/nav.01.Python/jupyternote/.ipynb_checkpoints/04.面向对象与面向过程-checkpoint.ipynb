{
 "cells": [
  {
   "cell_type": "markdown",
   "id": "9df807f8-8fe9-4b25-97f7-267ee303dca7",
   "metadata": {},
   "source": [
    "Python是一种同时支持面向过程和面向对象编程的语言，浅显的说就是：  \n",
    "- 面向过程编程，我们可以在一个.py文件中只写上我们的处理函数，其他模块想要调用的话只需要引入即可\n",
    "- 而对于面向对象编程，我们可以把实物进行概念性的抽象，提取共同点，把相同的属性和行为进行封装\n",
    "\n",
    "其实对于面向过程和面向对象，真正理解起来不是这么简单的说法，但是这是最大的区别而已，《代码整洁之道》一书中对面向过程和面向对象编程的描述就较为深刻，它让我清楚的认识到我对面向过程和面向对象的理解只是我的理解而已，有兴趣的同学可以去看一看"
   ]
  },
  {
   "cell_type": "markdown",
   "id": "9ee0d11f-d54c-4969-9e7d-537f3a914a43",
   "metadata": {},
   "source": [
    "# 面向过程"
   ]
  },
  {
   "cell_type": "markdown",
   "id": "e5f6bd52-571f-4a41-8387-cef9140d583d",
   "metadata": {},
   "source": [
    "## 函数\n"
   ]
  },
  {
   "cell_type": "markdown",
   "id": "de39e18c-329a-4c44-9068-aaa96004b932",
   "metadata": {},
   "source": [
    "### 定义函数\n",
    "\n",
    "在Python中可以使用`def`关键字来定义函数，和变量一样，每个函数也有一个响亮的名字，而且命名规则跟变量的命名规则是一致的。在函数名后面的圆括号中可以放置传递给函数的参数，这一点和数学上的函数非常相似，程序中函数的参数就相当于是数学上说的函数的自变量，而函数执行完成后我们可以通过`return`关键字来返回一个值，这相当于数学上说的函数的因变量"
   ]
  },
  {
   "attachments": {
    "a3b6e7ee-4dac-4f3e-b456-02e1bc5a4ed9.png": {
     "image/png": "[encoded data removed]"
    },
    "f860754a-54ac-463a-99d3-c8345110a774.png": {
     "image/png": "[encoded data removed]"
    }
   },
   "cell_type": "markdown",
   "id": "ba3dd8c3-84d0-465c-a192-c9b0a42b8769",
   "metadata": {},
   "source": [
    "一道数学题：请说出下面的方程有多少组正整数解。\n",
    "\n",
    "![image.png](attachment:a3b6e7ee-4dac-4f3e-b456-02e1bc5a4ed9.png)\n",
    "\n",
    "事实上，上面的问题等同于将8个苹果分成四组每组至少一个苹果有多少种方案\n",
    "\n",
    "![image.png](attachment:f860754a-54ac-463a-99d3-c8345110a774.png)\n",
    "\n",
    "编程实现："
   ]
  },
  {
   "cell_type": "code",
   "execution_count": 1,
   "id": "3f66b538-b92b-4967-b3d8-57614b822973",
   "metadata": {},
   "outputs": [
    {
     "ename": "KeyboardInterrupt",
     "evalue": "Interrupted by user",
     "output_type": "error",
     "traceback": [
      "\u001b[1;31m---------------------------------------------------------------------------\u001b[0m",
      "\u001b[1;31mKeyboardInterrupt\u001b[0m                         Traceback (most recent call last)",
      "\u001b[1;32m<ipython-input-1-7ee8e02f2b1e>\u001b[0m in \u001b[0;36m<module>\u001b[1;34m\u001b[0m\n\u001b[0;32m      7\u001b[0m \u001b[1;33m\u001b[0m\u001b[0m\n\u001b[0;32m      8\u001b[0m \u001b[1;33m\u001b[0m\u001b[0m\n\u001b[1;32m----> 9\u001b[1;33m \u001b[0mm\u001b[0m \u001b[1;33m=\u001b[0m \u001b[0mint\u001b[0m\u001b[1;33m(\u001b[0m\u001b[0minput\u001b[0m\u001b[1;33m(\u001b[0m\u001b[1;34m'm = '\u001b[0m\u001b[1;33m)\u001b[0m\u001b[1;33m)\u001b[0m\u001b[1;33m\u001b[0m\u001b[1;33m\u001b[0m\u001b[0m\n\u001b[0m\u001b[0;32m     10\u001b[0m \u001b[0mn\u001b[0m \u001b[1;33m=\u001b[0m \u001b[0mint\u001b[0m\u001b[1;33m(\u001b[0m\u001b[0minput\u001b[0m\u001b[1;33m(\u001b[0m\u001b[1;34m'n = '\u001b[0m\u001b[1;33m)\u001b[0m\u001b[1;33m)\u001b[0m\u001b[1;33m\u001b[0m\u001b[1;33m\u001b[0m\u001b[0m\n\u001b[0;32m     11\u001b[0m \u001b[1;31m# 当需要计算阶乘的时候不用再写循环求阶乘而是直接调用已经定义好的函数\u001b[0m\u001b[1;33m\u001b[0m\u001b[1;33m\u001b[0m\u001b[1;33m\u001b[0m\u001b[0m\n",
      "\u001b[1;32mD:\\env_local\\Anaconda3\\lib\\site-packages\\ipykernel\\kernelbase.py\u001b[0m in \u001b[0;36mraw_input\u001b[1;34m(self, prompt)\u001b[0m\n\u001b[0;32m    858\u001b[0m                 \u001b[1;34m\"raw_input was called, but this frontend does not support input requests.\"\u001b[0m\u001b[1;33m\u001b[0m\u001b[1;33m\u001b[0m\u001b[0m\n\u001b[0;32m    859\u001b[0m             )\n\u001b[1;32m--> 860\u001b[1;33m         return self._input_request(str(prompt),\n\u001b[0m\u001b[0;32m    861\u001b[0m             \u001b[0mself\u001b[0m\u001b[1;33m.\u001b[0m\u001b[0m_parent_ident\u001b[0m\u001b[1;33m,\u001b[0m\u001b[1;33m\u001b[0m\u001b[1;33m\u001b[0m\u001b[0m\n\u001b[0;32m    862\u001b[0m             \u001b[0mself\u001b[0m\u001b[1;33m.\u001b[0m\u001b[0m_parent_header\u001b[0m\u001b[1;33m,\u001b[0m\u001b[1;33m\u001b[0m\u001b[1;33m\u001b[0m\u001b[0m\n",
      "\u001b[1;32mD:\\env_local\\Anaconda3\\lib\\site-packages\\ipykernel\\kernelbase.py\u001b[0m in \u001b[0;36m_input_request\u001b[1;34m(self, prompt, ident, parent, password)\u001b[0m\n\u001b[0;32m    902\u001b[0m             \u001b[1;32mexcept\u001b[0m \u001b[0mKeyboardInterrupt\u001b[0m\u001b[1;33m:\u001b[0m\u001b[1;33m\u001b[0m\u001b[1;33m\u001b[0m\u001b[0m\n\u001b[0;32m    903\u001b[0m                 \u001b[1;31m# re-raise KeyboardInterrupt, to truncate traceback\u001b[0m\u001b[1;33m\u001b[0m\u001b[1;33m\u001b[0m\u001b[1;33m\u001b[0m\u001b[0m\n\u001b[1;32m--> 904\u001b[1;33m                 \u001b[1;32mraise\u001b[0m \u001b[0mKeyboardInterrupt\u001b[0m\u001b[1;33m(\u001b[0m\u001b[1;34m\"Interrupted by user\"\u001b[0m\u001b[1;33m)\u001b[0m \u001b[1;32mfrom\u001b[0m \u001b[1;32mNone\u001b[0m\u001b[1;33m\u001b[0m\u001b[1;33m\u001b[0m\u001b[0m\n\u001b[0m\u001b[0;32m    905\u001b[0m             \u001b[1;32mexcept\u001b[0m \u001b[0mException\u001b[0m \u001b[1;32mas\u001b[0m \u001b[0me\u001b[0m\u001b[1;33m:\u001b[0m\u001b[1;33m\u001b[0m\u001b[1;33m\u001b[0m\u001b[0m\n\u001b[0;32m    906\u001b[0m                 \u001b[0mself\u001b[0m\u001b[1;33m.\u001b[0m\u001b[0mlog\u001b[0m\u001b[1;33m.\u001b[0m\u001b[0mwarning\u001b[0m\u001b[1;33m(\u001b[0m\u001b[1;34m\"Invalid Message:\"\u001b[0m\u001b[1;33m,\u001b[0m \u001b[0mexc_info\u001b[0m\u001b[1;33m=\u001b[0m\u001b[1;32mTrue\u001b[0m\u001b[1;33m)\u001b[0m\u001b[1;33m\u001b[0m\u001b[1;33m\u001b[0m\u001b[0m\n",
      "\u001b[1;31mKeyboardInterrupt\u001b[0m: Interrupted by user"
     ]
    }
   ],
   "source": [
    "def factorial(num):\n",
    "    \"\"\"求阶乘\"\"\"\n",
    "    result = 1\n",
    "    for n in range(1, num + 1):\n",
    "        result *= n\n",
    "    return result\n",
    "\n",
    "\n",
    "m = int(input('m = '))\n",
    "n = int(input('n = '))\n",
    "# 当需要计算阶乘的时候不用再写循环求阶乘而是直接调用已经定义好的函数\n",
    "print(factorial(m) // factorial(n) // factorial(m - n))"
   ]
  },
  {
   "cell_type": "markdown",
   "id": "6744e7ea-acdc-4c01-884a-9a591a998fe0",
   "metadata": {},
   "source": [
    "Pytohn这种支持面向过程的语言在一些场景之下使用起来很方便，如果是使用Java这种纯面向对象的语言，我们在这里就免不了要创建一个类，还有它的具体方法"
   ]
  },
  {
   "cell_type": "markdown",
   "id": "d87e4fd2-d87c-4762-8d3e-d59446fe4007",
   "metadata": {},
   "source": [
    "### 函数的参数"
   ]
  },
  {
   "cell_type": "markdown",
   "id": "cc77f016-3aaa-48ed-9693-ae00dd69cf8b",
   "metadata": {},
   "source": [
    "Python并<font color='red' size=3>不支持函数的重载</font>，它的函数的参数可以有默认值，也支持使用可变参数  \n",
    "\n",
    "因此我们在定义一个函数的时候可以让它有多种不同的使用方式，这跟其他很多语言中函数重载的效果是一致的重载对于Python来说也是多此一举"
   ]
  },
  {
   "cell_type": "code",
   "execution_count": null,
   "id": "5ac0744a-abb6-4954-8d62-1af8f971e6be",
   "metadata": {},
   "outputs": [],
   "source": [
    "from random import randint\n",
    "\n",
    "\n",
    "def roll_dice(n=2):\n",
    "    \"\"\"摇色子\"\"\"\n",
    "    total = 0\n",
    "    for _ in range(n):\n",
    "        total += randint(1, 6)\n",
    "    return total\n",
    "\n",
    "\n",
    "def add(a=0, b=0, c=0):\n",
    "    \"\"\"三个数相加\"\"\"\n",
    "    return a + b + c\n",
    "\n",
    "\n",
    "# 如果没有指定参数那么使用默认值摇两颗色子\n",
    "print(roll_dice())\n",
    "# 摇三颗色子\n",
    "print(roll_dice(3))\n",
    "\n",
    "print(add())\n",
    "print(add(1))\n",
    "print(add(1, 2))\n",
    "print(add(1, 2, 3))\n",
    "# 传递参数时可以不按照设定的顺序进行传递\n",
    "print(add(c=50, a=100, b=200))"
   ]
  },
  {
   "cell_type": "markdown",
   "id": "d1319d7c-f763-4ef0-bdd9-eb93cc42698a",
   "metadata": {},
   "source": [
    "其实上面的`add`函数还有更好的实现方案，因为我们可能会对0个或多个参数进行加法运算，而具体有多少个参数是由调用者来决定，  \n",
    "我们作为函数的设计者对这一点是一无所知的，因此在不确定参数个数的时候，我们可以使用可变参数"
   ]
  },
  {
   "cell_type": "code",
   "execution_count": null,
   "id": "371e652c-b6c0-4589-82a1-ac664d9470ee",
   "metadata": {},
   "outputs": [],
   "source": [
    "# 在参数名前面的*表示args是一个可变参数\n",
    "def add(*args):\n",
    "    total = 0\n",
    "    for val in args:\n",
    "        total += val\n",
    "    return total\n",
    "\n",
    "\n",
    "# 在调用add函数时可以传入0个或多个参数\n",
    "print(add())\n",
    "print(add(1))\n",
    "print(add(1, 2))\n",
    "print(add(1, 2, 3))\n",
    "print(add(1, 3, 5, 7, 9))"
   ]
  },
  {
   "cell_type": "markdown",
   "id": "130128f1-43fc-4b41-9cba-c9e7a3a52a3a",
   "metadata": {},
   "source": [
    "## 模块"
   ]
  },
  {
   "cell_type": "markdown",
   "id": "02cbca88-f546-4c41-9e5d-8a6d8f914199",
   "metadata": {},
   "source": [
    "对于任何一种编程语言来说，给变量、函数这样的标识符起名字都是一个让人头疼的问题，因为我们会遇到命名冲突这种尴尬的情况。最简单的场景就是在同一个.py文件中定义了两个同名函数，由于Python没有函数重载的概念，那么<font color=#e6ab17 size=3>后面的定义会覆盖之前的定义</font>，也就意味着两个函数同名函数实际上只有一个是存在的"
   ]
  },
  {
   "cell_type": "code",
   "execution_count": null,
   "id": "e64d6cb3-bb4e-473e-9c46-62f119e67083",
   "metadata": {},
   "outputs": [],
   "source": [
    "def foo():\n",
    "    print('hello, world!')\n",
    "\n",
    "\n",
    "def foo():\n",
    "    print('goodbye, world!')\n",
    "\n",
    "\n",
    "# 下面的代码会输出什么呢？\n",
    "foo()"
   ]
  },
  {
   "cell_type": "markdown",
   "id": "78134b7c-9eee-4310-905f-69b1eaf11249",
   "metadata": {},
   "source": [
    "当然上面的这种情况我们很容易就能避免，但是如果项目是由多人协作进行团队开发的时候，团队中可能有多个程序员都定义了名为`foo`的函数，那么怎么解决这种命名冲突呢？  \n",
    "\n",
    "答案其实很简单，<font color=#e6ab17 size=3>Python中每个文件就代表了一个模块（module）</font>的模块中可以有同名的函数，在使用函数的时候，  \n",
    "我们通过`import`关键字导入指定的模块就可以区分到底要使用的是哪个模块中的`foo`函数，\n",
    "\n",
    "代码如下所示"
   ]
  },
  {
   "cell_type": "code",
   "execution_count": null,
   "id": "089038b9-ea15-4d92-9318-2c1f62b9f8f6",
   "metadata": {},
   "outputs": [],
   "source": [
    "\"\"\"\n",
    "module1.py\n",
    "\"\"\"\n",
    "\n",
    "def foo():\n",
    "    print('hello, world!')"
   ]
  },
  {
   "cell_type": "code",
   "execution_count": null,
   "id": "e3538cda-914c-4685-8abb-866d51488431",
   "metadata": {},
   "outputs": [],
   "source": [
    "\"\"\"\n",
    "module2.py\n",
    "\"\"\"\n",
    "\n",
    "def foo():\n",
    "    print('goodbye, world!')"
   ]
  },
  {
   "cell_type": "code",
   "execution_count": null,
   "id": "4200b8cc-239c-48da-99d3-2e1b668f6119",
   "metadata": {},
   "outputs": [],
   "source": [
    "\"\"\"\n",
    "test.py\n",
    "\"\"\"\n",
    "\n",
    "from module1 import foo\n",
    "\n",
    "# 输出hello, world!\n",
    "foo()\n",
    "\n",
    "from module2 import foo\n",
    "\n",
    "# 输出goodbye, world!\n",
    "foo()"
   ]
  },
  {
   "cell_type": "markdown",
   "id": "3bb97d5c-9c39-4c6a-b378-3ee149f2f0d9",
   "metadata": {},
   "source": [
    "**也可以按照如下所示的方式来区分到底要使用哪一个`foo`函数**"
   ]
  },
  {
   "cell_type": "code",
   "execution_count": null,
   "id": "a4620ee7-0c2a-4ccb-a8a3-35e0da4eb5b9",
   "metadata": {},
   "outputs": [],
   "source": [
    "\"\"\"\n",
    "test.py\n",
    "\"\"\"\n",
    "\n",
    "import module1 as m1\n",
    "import module2 as m2\n",
    "\n",
    "m1.foo()\n",
    "m2.foo()"
   ]
  },
  {
   "cell_type": "markdown",
   "id": "6d7292ff-30d6-4875-afec-ed5e1db7f294",
   "metadata": {},
   "source": [
    "**但是如果将代码写成了下面的样子，那么程序中调用的是最后导入的那个`foo`，因为后导入的foo覆盖了之前导入的`foo`**"
   ]
  },
  {
   "cell_type": "code",
   "execution_count": null,
   "id": "adba55e3-943a-4530-b280-fa2fa27aaa48",
   "metadata": {},
   "outputs": [],
   "source": [
    "\"\"\"\n",
    "test.py\n",
    "\"\"\"\n",
    "\n",
    "from module1 import foo\n",
    "from module2 import foo\n",
    "\n",
    "# 输出goodbye, world!\n",
    "foo()"
   ]
  },
  {
   "cell_type": "code",
   "execution_count": null,
   "id": "9b1f3e2d-3615-4ec5-8a6e-a5c49ab7f4ea",
   "metadata": {},
   "outputs": [],
   "source": [
    "\"\"\"\n",
    "test.py\n",
    "\"\"\"\n",
    "\n",
    "from module2 import foo\n",
    "from module1 import foo\n",
    "\n",
    "# 输出hello, world!\n",
    "foo()"
   ]
  },
  {
   "cell_type": "markdown",
   "id": "80da8f8b-ea56-4777-a7c8-200f70913753",
   "metadata": {},
   "source": [
    "需要说明的是，**如果我们导入的模块除了定义函数之外还有可以执行代码，那么Python解释器在导入这个模块时就会执行这些代码**，  \n",
    "事实上我们可能并不希望如此，因此如果我们在模块中编写了执行代码，最好是将这些执行代码放入如下所示的条件中，这样的话除非直接运行该模块，  \n",
    "if条件下的这些代码是不会执行的，因为只有直接执行的模块的名字才是&quot;\\_\\_main\\_\\_\""
   ]
  },
  {
   "cell_type": "code",
   "execution_count": null,
   "id": "f3e1fbc2-2714-4654-9765-88b71364c02b",
   "metadata": {},
   "outputs": [],
   "source": [
    "\"\"\"\n",
    "module3.py\n",
    "\"\"\" \n",
    "\n",
    "def foo():\n",
    "    pass\n",
    "\n",
    "\n",
    "def bar():\n",
    "    pass\n",
    "\n",
    "\n",
    "# __name__是Python中一个隐含的变量它代表了模块的名字\n",
    "# 只有被Python解释器直接执行的模块的名字才是__main__\n",
    "if __name__ == '__main__':\n",
    "    print('call foo()')\n",
    "    foo()\n",
    "    print('call bar()')\n",
    "    bar()"
   ]
  },
  {
   "cell_type": "code",
   "execution_count": null,
   "id": "bcc72fb3-b36d-4e46-abfc-5679b91b1986",
   "metadata": {},
   "outputs": [],
   "source": [
    "\"\"\"\n",
    "test.py\n",
    "\"\"\"\n",
    "\n",
    "import module3\n",
    "\n",
    "# 导入module3时 不会执行模块中if条件成立时的代码 因为模块的名字是module3而不是__main__"
   ]
  },
  {
   "cell_type": "markdown",
   "id": "ee48952e-a00c-4c54-89aa-aa6582b15f76",
   "metadata": {},
   "source": [
    "# 面向对象"
   ]
  },
  {
   "cell_type": "markdown",
   "id": "52c8a0eb-6afc-4bc1-985e-abbd2a6616f4",
   "metadata": {},
   "source": [
    "面向对象中包含的语法概念： \n",
    "- 类(Class): 用来描述具有相同的属性和方法的对象的集合。它定义了该集合中每个对象所共有的属性和方法。对象是类的实例\n",
    "- 类变量：类变量在整个实例化的对象中是公用的。类变量定义在类中且在函数体之外。类变量通常不作为实例变量使用\n",
    "- 数据成员：类变量或者实例变量用于处理类及其实例对象的相关的数据\n",
    "- 方法重写：如果从父类继承的方法不能满足子类的需求，可以对其进行改写，这个过程叫方法的覆盖（override），也称为方法的重写\n",
    "- 局部变量：定义在方法中的变量，只作用于当前实例的类\n",
    "- 实例变量：在类的声明中，属性是用变量来表示的。这种变量就称为实例变量，是在类声明的内部但是在类的其他成员方法之外声明的\n",
    "- 继承：即一个派生类（derived class）继承基类（base class）的字段和方法。继承也允许把一个派生类的对象作为一个基类对象对待\n",
    "- 实例化：创建一个类的实例，类的具体对象\n",
    "- 方法：类中定义的函数\n",
    "- 对象：通过类定义的数据结构实例。对象包括两个数据成员（类变量和实例变量）和方法\n",
    "\n",
    "和其它编程语言相比，Python 在尽可能不增加新的语法和语义的情况下加入了类机制。\n",
    "\n",
    "Python 中的类提供了面向对象编程的所有基本功能：类的继承机制允许多个基类，派生类可以覆盖基类中的任何方法，方法中可以调用基类中的同名方法。\n",
    "\n",
    "对象可以包含任意数量和类型的数据"
   ]
  },
  {
   "cell_type": "markdown",
   "id": "668fd860-07af-46db-a1a6-d6c190a01581",
   "metadata": {},
   "source": [
    "## 类和对象\n",
    "类的定义使用class 关键字，如果需要继承某个类，只需要在类名后面使用小括号并写上你要继承的类"
   ]
  },
  {
   "cell_type": "code",
   "execution_count": null,
   "id": "c196e217-6abe-45e9-aced-e3d8d70058c8",
   "metadata": {},
   "outputs": [],
   "source": [
    "class Cat(object):\n",
    "    yell = \"喵喵喵\"\n",
    "    pass\n",
    "class Dog:\n",
    "    yell = \"汪汪汪\"\n",
    "    pass"
   ]
  },
  {
   "cell_type": "markdown",
   "id": "967b3267-760a-464d-9280-386525268128",
   "metadata": {},
   "source": [
    "思考：  \n",
    "继承object与不继承object的区别？"
   ]
  },
  {
   "cell_type": "code",
   "execution_count": null,
   "id": "c29411ac-ebca-45da-93c4-195191421f7e",
   "metadata": {},
   "outputs": [],
   "source": [
    "cat = Cat()\n",
    "print(\"cat\",dir(cat))"
   ]
  },
  {
   "cell_type": "code",
   "execution_count": null,
   "id": "d7a3356c-90bb-4c4e-a76e-e4cb68edfa0e",
   "metadata": {},
   "outputs": [],
   "source": [
    "dog = Dog()\n",
    "print(\"dog\", dir(dog))"
   ]
  },
  {
   "cell_type": "markdown",
   "id": "0d1f2808-e49b-4147-9a0f-dc2486cd5dcc",
   "metadata": {},
   "source": [
    "  "
   ]
  },
  {
   "cell_type": "markdown",
   "id": "8e86c392-6f1c-4e0a-b530-209bcf0c6aa6",
   "metadata": {},
   "source": [
    "通过dir()函数，打印的是对象的命名空间，通过结果我们看出，继承与不继承是没有区别的，它们除了拥有'yell'外都同时拥有了object类的所有属性  \n",
    "这是因为Python已经默认就帮你加载了object了（即便你没有写上object）  \n",
    "\n",
    "值得注意的是，这是Python3才有的特性，Python2中继承object与不继承结果是不一样的\n",
    "\n"
   ]
  },
  {
   "cell_type": "markdown",
   "id": "787afa07-eeaf-4d00-97e3-5d67999af631",
   "metadata": {},
   "source": [
    "### 定义一个类"
   ]
  },
  {
   "cell_type": "code",
   "execution_count": null,
   "id": "ab88dbfd-6fb0-4da2-abbb-76236882ea6e",
   "metadata": {},
   "outputs": [],
   "source": [
    "class Student(object):\n",
    "\n",
    "    # __init__是一个特殊方法用于在创建对象时进行初始化操作，它就是类的一个构造方法\n",
    "    # 通过这个方法我们可以为学生对象绑定name和age两个属性\n",
    "    def __init__(self, name, age):\n",
    "        self.name = name\n",
    "        self.age = age\n",
    "\n",
    "    def study(self, course_name):\n",
    "        print('%s正在学习%s.' % (self.name, course_name))\n",
    "\n",
    "    # PEP 8要求标识符的名字用全小写多个单词用下划线连接\n",
    "    # 但是部分程序员和公司更倾向于使用驼峰命名法(驼峰标识)\n",
    "    def watch_movie(self):\n",
    "        if self.age < 18:\n",
    "            print('%s只能观看《熊出没》.' % self.name)\n",
    "        else:\n",
    "            print('%s正在观看岛国爱情大电影.' % self.name)"
   ]
  },
  {
   "cell_type": "markdown",
   "id": "520cb0a0-f5ae-44f5-bcc1-f38bb17c7702",
   "metadata": {},
   "source": [
    "### 创建类的对象"
   ]
  },
  {
   "cell_type": "code",
   "execution_count": null,
   "id": "54e3e117-e863-4de0-b7a1-324f524c26dd",
   "metadata": {},
   "outputs": [],
   "source": [
    "def main():\n",
    "    # 创建学生对象并指定姓名和年龄\n",
    "    stu1 = Student('骆昊', 38)\n",
    "    # 给对象发 study 消息\n",
    "    stu1.study('Python程序设计')\n",
    "    # 给对象发 watch_av 消息\n",
    "    stu1.watch_movie()\n",
    "    stu2 = Student('王大锤', 15)\n",
    "    stu2.study('思想品德')\n",
    "    stu2.watch_movie()\n",
    "\n",
    "\n",
    "if __name__ == '__main__':\n",
    "    main()"
   ]
  },
  {
   "cell_type": "markdown",
   "id": "d814c5a4-e5ba-4fc7-accf-bb2a23ea16c1",
   "metadata": {},
   "source": [
    "### 类的构造函数及其属性"
   ]
  },
  {
   "cell_type": "markdown",
   "id": "1345a404-1dff-4157-9682-d8f0f68e2359",
   "metadata": {},
   "source": [
    "**形式一：**属性定义在构造函数__init__()中"
   ]
  },
  {
   "cell_type": "code",
   "execution_count": null,
   "id": "c1478d06-2e7c-411c-84ed-19bc8376735c",
   "metadata": {},
   "outputs": [],
   "source": [
    "class Student:\n",
    "\n",
    "    def __init__(self, name, age):\n",
    "        self.name = name\n",
    "        self.age = age"
   ]
  },
  {
   "cell_type": "markdown",
   "id": "357f1c70-1c0e-489f-ba22-1d478c61dc62",
   "metadata": {},
   "source": [
    "**形式二：**属性定义在构造函数外部"
   ]
  },
  {
   "cell_type": "code",
   "execution_count": null,
   "id": "d48c3347-8c57-4988-824a-cb0651e5cd25",
   "metadata": {},
   "outputs": [],
   "source": [
    "class Student2:\n",
    "    # 定义基本属性\n",
    "    name = ''\n",
    "    age = 0\n",
    "    # 双下划线开头，定义私有属性,私有属性在类外部无法直接进行访问\n",
    "    __weight = 0\n",
    "    # 单下划线开头，提示作为受保护的属性\n",
    "    _qq = ''\n",
    "    def __init__(self, name, age, weight, qq):\n",
    "        self.name = name\n",
    "        self.age = age\n",
    "        self.__weight = weight\n",
    "        self.qq = qq"
   ]
  },
  {
   "cell_type": "markdown",
   "id": "8d9380bb-1817-4767-9810-4f9f23aaf52b",
   "metadata": {},
   "source": [
    "Python中属性的访问权限只有公有（public）和私有（private）两种\n",
    "- 公有属性，开头不加任何下划线\n",
    "- 私有属性，开头会使用两个下划线\n",
    "- 特别的：我们使用一个下划线来标识是受保护的，但仅仅只是程序员之间使用代码交流的形式，Python的权限中是没有受保护的这种访问控制方式"
   ]
  },
  {
   "cell_type": "code",
   "execution_count": null,
   "id": "e805316c-470e-43a2-bdfb-6d485afb1493",
   "metadata": {},
   "outputs": [],
   "source": [
    "stu = Student2('骆昊', 38, 130, 2178862750)\n",
    "print(stu.name)\n",
    "print(stu.qq)\n",
    "stu.__weight  # 私有属性不能直接访问"
   ]
  },
  {
   "cell_type": "markdown",
   "id": "3799ba3b-c485-4d02-b333-c3211ac80901",
   "metadata": {},
   "source": [
    "但是，Python并没有从语法上严格保证私有属性或方法的私密性，<font color='red' size=3>它只是给私有的属性和方法换了一个名字</font>来妨碍对它们的访问，\n",
    "\n",
    "事实上如果你知道更换名字的规则仍然可以访问到它们，下面的代码就可以验证这一点"
   ]
  },
  {
   "cell_type": "code",
   "execution_count": null,
   "id": "4756c074-402f-4f67-a59e-fd9e7f597b73",
   "metadata": {},
   "outputs": [],
   "source": [
    "def main():\n",
    "    stu = Student2('骆昊', 38, 130, 2178862750)\n",
    "    print(stu._Student2__weight)  # 私有属性通过这种规则也能够直接访问\n",
    "\n",
    "\n",
    "if __name__ == \"__main__\":\n",
    "    main()"
   ]
  },
  {
   "cell_type": "markdown",
   "id": "b96461bd-9674-45c3-a5ac-cc8bfe90840d",
   "metadata": {},
   "source": [
    "在实际开发中，我们并不建议将属性设置为私有的，因为这会导致子类无法访问。  \n",
    "所以大多数Python程序员会遵循一种命名惯例就是让属性名以单下划线开头来表示属性是受保护的，本类之外的代码在访问这样的属性时应该要保持慎重。 \n",
    "\n",
    "这种做法并不是语法上的规则，单下划线开头的属性和方法外界仍然是可以访问的，所以更多的时候它是一种暗示或隐喻，关于这一点可以看看[《Python - 那些年我们踩过的那些坑》](http://blog.csdn.net/jackfrued/article/details/79521404)文章中的讲解。"
   ]
  },
  {
   "cell_type": "markdown",
   "id": "48a3c165-d8a9-40dc-a35b-6aecccd26fbb",
   "metadata": {},
   "source": [
    " "
   ]
  },
  {
   "cell_type": "markdown",
   "id": "35b457bf-7b81-4f7e-9e51-5f102ad7ae07",
   "metadata": {},
   "source": [
    "### 类的方法"
   ]
  },
  {
   "cell_type": "markdown",
   "id": "cab18779-a9e3-428f-ba12-2b9d4c05d16d",
   "metadata": {},
   "source": [
    "写在类中的函数，我们通常称之为（对象的）方法，这些方法就是对象可以接收的消息  \n",
    "与属性类似，以双下划线开头的方法是私有方法，不以下划线开头的代表是公开的"
   ]
  },
  {
   "cell_type": "code",
   "execution_count": null,
   "id": "33422436-58af-4616-aa44-e2e5fe661e66",
   "metadata": {},
   "outputs": [],
   "source": [
    "class Test:\n",
    "\n",
    "    def __init__(self, foo):\n",
    "        self.__foo = foo\n",
    "\n",
    "    def __bar(self):\n",
    "        print(self.__foo)\n",
    "        print('__bar')\n",
    "\n",
    "\n",
    "def main():\n",
    "    test = Test('hello')\n",
    "    # AttributeError: 'Test' object has no attribute '__bar'\n",
    "    test.__bar()\n",
    "    # AttributeError: 'Test' object has no attribute '__foo'\n",
    "    print(test.__foo)\n",
    "\n",
    "def access():\n",
    "    test = Test('hello')\n",
    "    # 知道生成规则后我们依然可以访问到\n",
    "    test._Test__bar()\n",
    "    print(test._Test__foo)\n",
    "\n",
    "\n",
    "if __name__ == \"__main__\":\n",
    "    # main()\n",
    "    access()"
   ]
  },
  {
   "cell_type": "markdown",
   "id": "64bc9ccf-83b1-437b-aa82-b1b11111e37d",
   "metadata": {},
   "source": [
    "### 静态方法\n",
    "\n",
    "上面，我们在类中定义的方法都是对象方法，也就是说这些方法都是发送给对象的消息。实际上，我们写在类中的方法并不需要都是对象方法，  "
   ]
  },
  {
   "cell_type": "code",
   "execution_count": null,
   "id": "c0626100-d64f-4a09-b16f-58909b92ea41",
   "metadata": {},
   "outputs": [],
   "source": [
    "from math import sqrt\n",
    "\n",
    "\n",
    "class Triangle(object):\n",
    "\n",
    "    def __init__(self, a, b, c):\n",
    "        self._a = a\n",
    "        self._b = b\n",
    "        self._c = c\n",
    "\n",
    "    \"\"\"\n",
    "    定义为静态方法，判断是否能构成三角形\n",
    "    \"\"\"\n",
    "    @staticmethod\n",
    "    def is_valid(a, b, c):\n",
    "        return a + b > c and b + c > a and a + c > b\n",
    "\n",
    "    def perimeter(self):\n",
    "        return self._a + self._b + self._c\n",
    "\n",
    "    def area(self):\n",
    "        half = self.perimeter() / 2\n",
    "        return sqrt(half * (half - self._a) *\n",
    "                    (half - self._b) * (half - self._c))\n",
    "\n",
    "\n",
    "def main():\n",
    "    a, b, c = 3, 4, 5\n",
    "    # 静态方法和类方法都是通过给类发消息来调用的\n",
    "    if Triangle.is_valid(a, b, c):\n",
    "        t = Triangle(a, b, c)\n",
    "        print(t.perimeter())\n",
    "        # 也可以通过给类发消息来调用对象方法但是要传入接收消息的对象作为参数\n",
    "        # print(Triangle.perimeter(t))\n",
    "        print(t.area())\n",
    "        # print(Triangle.area(t))\n",
    "    else:\n",
    "        print('无法构成三角形.')\n",
    "\n",
    "\n",
    "if __name__ == '__main__':\n",
    "    main()"
   ]
  },
  {
   "cell_type": "markdown",
   "id": "39d057a5-47e1-488d-b3f7-4dc04dba5ace",
   "metadata": {},
   "source": [
    "### 类方法\n",
    "Python还可以在类中定义类方法，类方法的第一个参数约定名为<font color='red' size=4>cls</font>，它代表的是当前类相关的信息的对象（类本身也是一个对象，有的地方也称之为类的元数据对象），<font color=#e6ab17 size=3>通过这个参数我们可以获取和类相关的信息并且可以创建出类的对象</font>"
   ]
  },
  {
   "cell_type": "code",
   "execution_count": null,
   "id": "212fb768-bee8-40e5-93ef-5536d7f4fbdc",
   "metadata": {},
   "outputs": [],
   "source": [
    "from time import time, localtime, sleep\n",
    "\n",
    "\n",
    "class Clock(object):\n",
    "    \"\"\"数字时钟\"\"\"\n",
    "\n",
    "    def __init__(self, hour=0, minute=0, second=0):\n",
    "        self._hour = hour\n",
    "        self._minute = minute\n",
    "        self._second = second\n",
    "\n",
    "    \"\"\"\n",
    "    通过类方法构造对象\n",
    "    \"\"\"\n",
    "    @classmethod\n",
    "    def now(cls):\n",
    "        ctime = localtime(time())\n",
    "        return cls(ctime.tm_hour, ctime.tm_min, ctime.tm_sec)\n",
    "\n",
    "    def run(self):\n",
    "        \"\"\"走字\"\"\"\n",
    "        self._second += 1\n",
    "        if self._second == 60:\n",
    "            self._second = 0\n",
    "            self._minute += 1\n",
    "            if self._minute == 60:\n",
    "                self._minute = 0\n",
    "                self._hour += 1\n",
    "                if self._hour == 24:\n",
    "                    self._hour = 0\n",
    "\n",
    "    def show(self):\n",
    "        \"\"\"显示时间\"\"\"\n",
    "        return '%02d:%02d:%02d' % \\\n",
    "               (self._hour, self._minute, self._second)\n",
    "\n",
    "\n",
    "def main():\n",
    "    # 通过类方法创建对象并获取系统时间\n",
    "    clock = Clock.now()\n",
    "    while True:\n",
    "        print(clock.show())\n",
    "        sleep(1)\n",
    "        clock.run()\n",
    "        \n",
    "if __name__ == '__main__':\n",
    "    main()"
   ]
  },
  {
   "cell_type": "markdown",
   "id": "f32c329a-d0cd-4451-bcf8-5fc9a8b130b0",
   "metadata": {},
   "source": [
    "## @property装饰器\n",
    "\n",
    "之前我们讨论过Python中属性和方法访问权限的问题，虽然我们不建议将属性设置为私有的，但是如果直接将属性暴露给外界也是有问题的，比如我们没有办法检查赋给属性的值是否有效。我们之前的建议是将属性命名以单下划线开头，通过这种方式来暗示属性是受保护的，不建议外界直接访问，那么如果想访问属性可以通过属性的getter（访问器）和setter（修改器）方法进行对应的操作。如果要做到这点，就可以考虑使用@property包装器来包装getter和setter方法，使得对属性的访问既安全又方便"
   ]
  },
  {
   "cell_type": "code",
   "execution_count": null,
   "id": "19e312d3-18bd-4f1f-9097-89e4fb4e4092",
   "metadata": {},
   "outputs": [],
   "source": [
    "class Person(object):\n",
    "\n",
    "    def __init__(self, name, age):\n",
    "        self._name = name\n",
    "        self._age = age\n",
    "\n",
    "    # 访问器 - getter方法\n",
    "    @property\n",
    "    def name(self):\n",
    "        return self._name\n",
    "\n",
    "    # 访问器 - getter方法\n",
    "    @property\n",
    "    def age(self):\n",
    "        return self._age\n",
    "\n",
    "    # 修改器 - setter方法\n",
    "    @age.setter\n",
    "    def age(self, age):\n",
    "        self._age = age\n",
    "\n",
    "    def play(self):\n",
    "        if self._age <= 16:\n",
    "            print('%s正在玩飞行棋.' % self._name)\n",
    "        else:\n",
    "            print('%s正在玩斗地主.' % self._name)\n",
    "\n",
    "\n",
    "def main():\n",
    "    person = Person('王大锤', 12)\n",
    "    person.play()\n",
    "    person.age = 22\n",
    "    person.play()\n",
    "    # person.name = '白元芳'  # AttributeError: can't set attribute\n",
    "\n",
    "\n",
    "if __name__ == '__main__':\n",
    "    main()"
   ]
  },
  {
   "cell_type": "markdown",
   "id": "354abc0a-3cfe-45e1-8c15-0863ee23ef5e",
   "metadata": {
    "tags": []
   },
   "source": [
    " "
   ]
  },
  {
   "cell_type": "markdown",
   "id": "5ac6e02b-9e57-4a87-be9e-70de5742a4b2",
   "metadata": {},
   "source": [
    "## __slots__魔法\n",
    "\n",
    "我们讲到这里，不知道大家是否已经意识到，Python是一门[动态语言](https://zh.wikipedia.org/wiki/%E5%8A%A8%E6%80%81%E8%AF%AD%E8%A8%80)。通常，动态语言允许我们在程序运行时给对象绑定新的属性或方法，当然也可以对已经绑定的属性和方法进行解绑定。但是如果我们需要<font color=\"red\" size=3>限定自定义类型的对象只能绑定某些属性</font>，可以通过在类中定义__slots__变量来进行限定。需要注意的是<font color=#e6ab17 size=3>__slots__的限定只对当前类的对象生效，对子类并不起任何作用</font>"
   ]
  },
  {
   "cell_type": "code",
   "execution_count": null,
   "id": "8b7ac192-bd06-47ee-ab61-d0dc4021ae9b",
   "metadata": {},
   "outputs": [],
   "source": [
    "class Person(object):\n",
    "\n",
    "    # 限定Person对象只能绑定_name, _age和_gender属性\n",
    "    __slots__ = ('_name', '_age', '_gender')\n",
    "\n",
    "    def __init__(self, name, age):\n",
    "        self._name = name\n",
    "        self._age = age\n",
    "\n",
    "    @property\n",
    "    def name(self):\n",
    "        return self._name\n",
    "\n",
    "    @property\n",
    "    def age(self):\n",
    "        return self._age\n",
    "\n",
    "    @age.setter\n",
    "    def age(self, age):\n",
    "        self._age = age\n",
    "\n",
    "    def play(self):\n",
    "        if self._age <= 16:\n",
    "            print('%s正在玩飞行棋.' % self._name)\n",
    "        else:\n",
    "            print('%s正在玩斗地主.' % self._name)\n",
    "\n",
    "\n",
    "def main():\n",
    "    person = Person('王大锤', 22)\n",
    "    person.play()\n",
    "    person._gender = '男'\n",
    "    # AttributeError: 'Person' object has no attribute '_is_gay'\n",
    "    person._is_gay = True\n",
    "    \n",
    "if __name__ == '__main__':\n",
    "    main()"
   ]
  },
  {
   "cell_type": "markdown",
   "id": "dee492f7-708b-4b96-bedb-5105f172eb3d",
   "metadata": {},
   "source": [
    "## 继承和多态"
   ]
  },
  {
   "cell_type": "markdown",
   "id": "d1f61fdc-671b-4577-a2e4-bf59c009e7cc",
   "metadata": {},
   "source": [
    "让一个类从另一个类那里将属性和方法直接继承下来，从而减少重复代码的编写。  \n",
    "提供继承信息的我们称之为父类，也叫超类或基类；得到继承信息的我们称之为子类，也叫派生类或衍生类。  \n",
    "子类除了继承父类提供的属性和方法，还可以定义自己特有的属性和方法，所以子类比父类拥有的更多的能力。  \n",
    "在实际开发中，我们经常会用子类对象去替换掉一个父类对象，这是面向对象编程中一个常见的行为，对应的原则称之为[里氏替换原则](https://zh.wikipedia.org/wiki/%E9%87%8C%E6%B0%8F%E6%9B%BF%E6%8D%A2%E5%8E%9F%E5%88%99)"
   ]
  },
  {
   "cell_type": "code",
   "execution_count": null,
   "id": "b707a574-96c7-444e-87ab-5ae2faa067d2",
   "metadata": {},
   "outputs": [],
   "source": [
    "class Person(object):\n",
    "    \"\"\"人\"\"\"\n",
    "\n",
    "    def __init__(self, name, age):\n",
    "        self._name = name\n",
    "        self._age = age\n",
    "\n",
    "    @property\n",
    "    def name(self):\n",
    "        return self._name\n",
    "\n",
    "    @property\n",
    "    def age(self):\n",
    "        return self._age\n",
    "\n",
    "    @age.setter\n",
    "    def age(self, age):\n",
    "        self._age = age\n",
    "\n",
    "    def play(self):\n",
    "        print('%s正在愉快的玩耍.' % self._name)\n",
    "\n",
    "    def watch_av(self):\n",
    "        if self._age >= 18:\n",
    "            print('%s正在观看爱情动作片.' % self._name)\n",
    "        else:\n",
    "            print('%s只能观看《熊出没》.' % self._name)\n",
    "\n",
    "\n",
    "class Student(Person):\n",
    "    \"\"\"学生\"\"\"\n",
    "\n",
    "    def __init__(self, name, age, grade):\n",
    "        super().__init__(name, age)\n",
    "        self._grade = grade\n",
    "\n",
    "    @property\n",
    "    def grade(self):\n",
    "        return self._grade\n",
    "\n",
    "    @grade.setter\n",
    "    def grade(self, grade):\n",
    "        self._grade = grade\n",
    "\n",
    "    def study(self, course):\n",
    "        print('%s的%s正在学习%s.' % (self._grade, self._name, course))\n",
    "\n",
    "\n",
    "class Teacher(Person):\n",
    "    \"\"\"老师\"\"\"\n",
    "\n",
    "    def __init__(self, name, age, title):\n",
    "        super().__init__(name, age)\n",
    "        self._title = title\n",
    "\n",
    "    @property\n",
    "    def title(self):\n",
    "        return self._title\n",
    "\n",
    "    @title.setter\n",
    "    def title(self, title):\n",
    "        self._title = title\n",
    "\n",
    "    def teach(self, course):\n",
    "        print('%s%s正在讲%s.' % (self._name, self._title, course))\n",
    "\n",
    "\n",
    "def main():\n",
    "    stu = Student('王大锤', 15, '初三')\n",
    "    stu.study('数学')\n",
    "    stu.watch_av()\n",
    "    t = Teacher('骆昊', 38, '砖家')\n",
    "    t.teach('Python程序设计')\n",
    "    t.watch_av()\n",
    "\n",
    "\n",
    "if __name__ == '__main__':\n",
    "    main()"
   ]
  },
  {
   "cell_type": "code",
   "execution_count": null,
   "id": "911400c9-a58b-43e9-b349-63efc37e81df",
   "metadata": {},
   "outputs": [],
   "source": []
  }
 ],
 "metadata": {
  "kernelspec": {
   "display_name": "Python 3",
   "language": "python",
   "name": "python3"
  },
  "language_info": {
   "codemirror_mode": {
    "name": "ipython",
    "version": 3
   },
   "file_extension": ".py",
   "mimetype": "text/x-python",
   "name": "python",
   "nbconvert_exporter": "python",
   "pygments_lexer": "ipython3",
   "version": "3.8.10"
  },
  "toc-autonumbering": true
 },
 "nbformat": 4,
 "nbformat_minor": 5
}
