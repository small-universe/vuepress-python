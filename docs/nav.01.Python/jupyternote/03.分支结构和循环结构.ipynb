{
 "cells": [
  {
   "cell_type": "markdown",
   "id": "7bc79e15-0483-45cc-8b35-fa0512403db2",
   "metadata": {},
   "source": [
    "# 分支结构"
   ]
  },
  {
   "attachments": {
    "bf8eb09e-e2e2-42e6-9d6f-146946b8c4bf.png": {
     "image/png": "[encoded data removed]"
    }
   },
   "cell_type": "markdown",
   "id": "f086892a-834b-4a54-bb13-b3faab76bd3a",
   "metadata": {},
   "source": [
    "分支结构较为简单，就是if---elif---else,通过一个例子熟悉Python的写法即可  \n",
    "<font color=\"red\">Tip：与其他语言一样，分支结构可以嵌套使用，但是为了可读性，尽量不要嵌套！！！</font>\n",
    "![image.png](attachment:bf8eb09e-e2e2-42e6-9d6f-146946b8c4bf.png)"
   ]
  },
  {
   "cell_type": "code",
   "execution_count": 1,
   "id": "cab44856-57e5-4630-b3eb-5f4af227f3c3",
   "metadata": {},
   "outputs": [
    {
     "name": "stdin",
     "output_type": "stream",
     "text": [
      "x =  12\n"
     ]
    },
    {
     "name": "stdout",
     "output_type": "stream",
     "text": [
      "f(12.00) = 31.00\n"
     ]
    }
   ],
   "source": [
    "\"\"\"\n",
    "分段函数求值\n",
    "\n",
    "        3x - 5  (x > 1)\n",
    "f(x) =  x + 2   (-1 <= x <= 1)\n",
    "        5x + 3  (x < -1)\n",
    "\n",
    "Version: 0.1\n",
    "Author: 骆昊\n",
    "\"\"\"\n",
    "\n",
    "x = float(input('x = '))\n",
    "if x > 1:\n",
    "    y = 3 * x - 5\n",
    "elif x >= -1:\n",
    "    y = x + 2\n",
    "else:\n",
    "    y = 5 * x + 3\n",
    "print('f(%.2f) = %.2f' % (x, y))"
   ]
  },
  {
   "cell_type": "markdown",
   "id": "c2d43541-e244-4a78-8a05-57f4210065a6",
   "metadata": {},
   "source": [
    "# 循环结构\n",
    "Python中的循环结构跟其他语言也是大同小异，支持for-in循环、while循环，在循环体中break 和 continue与其他语言的用法是一样的，特别一点的是有个pass语句"
   ]
  },
  {
   "cell_type": "markdown",
   "id": "64f09252-4c78-4542-9f9b-f42ea202a466",
   "metadata": {},
   "source": [
    "## for-in循环"
   ]
  },
  {
   "cell_type": "code",
   "execution_count": 2,
   "id": "28536ef6-f1a3-4096-90dc-771614141cd5",
   "metadata": {},
   "outputs": [
    {
     "name": "stdout",
     "output_type": "stream",
     "text": [
      "5050\n"
     ]
    }
   ],
   "source": [
    "\"\"\"\n",
    "用for循环实现1~100求和\n",
    "\n",
    "Version: 0.1\n",
    "Author: 骆昊\n",
    "\"\"\"\n",
    "\n",
    "sum = 0\n",
    "for x in range(101):\n",
    "    sum += x\n",
    "print(sum)"
   ]
  },
  {
   "cell_type": "markdown",
   "id": "f2835ffc-1030-4dd2-950b-0889ec3eee53",
   "metadata": {},
   "source": [
    "需要说明的是上面代码中的`range(101)`可以用来构造一个从0到100的取值范围，它的规则还是<font color=#e6ab17 size=3>左闭右开</font>，这样就可以构造出一个整数的序列并用于循环中，例如：\n",
    "\n",
    "- `range(101)`可以产生一个0到100的整数序列\n",
    "- `range(1, 100)`可以产生一个1到99的整数序列\n",
    "- `range(1, 100, 2)`可以产生一个1到99的奇数序列，其中2是步长，即数值序列的增量\n",
    "- `range(0, 101, 2)`同理可以产生一个0到100的偶数序列"
   ]
  },
  {
   "cell_type": "code",
   "execution_count": 3,
   "id": "aae74bdc-ac30-4186-bcdb-d8036842acbc",
   "metadata": {},
   "outputs": [
    {
     "name": "stdout",
     "output_type": "stream",
     "text": [
      "2550\n"
     ]
    }
   ],
   "source": [
    "\"\"\"\n",
    "用for循环实现1~100之间的偶数求和\n",
    "\n",
    "Version: 0.1\n",
    "Author: 骆昊\n",
    "\"\"\"\n",
    "\n",
    "sum = 0\n",
    "for x in range(0, 101, 2):\n",
    "    sum += x\n",
    "print(sum)"
   ]
  },
  {
   "cell_type": "markdown",
   "id": "ff5e7ac4-21a2-4cd4-9285-fd90bc9f1521",
   "metadata": {},
   "source": [
    "## while循环\n",
    "如果要构造不知道具体循环次数的循环结构，我们推荐使用`while`循环, 与Java不同，Python只有简单的while循环，<font color=#e6ab17 size=3>没有do-while循环</font>"
   ]
  },
  {
   "cell_type": "code",
   "execution_count": 4,
   "id": "c639e9f3-6a4b-4d22-aee2-1fb4455e0f36",
   "metadata": {},
   "outputs": [
    {
     "name": "stdin",
     "output_type": "stream",
     "text": [
      "请输入:  45\n"
     ]
    },
    {
     "name": "stdout",
     "output_type": "stream",
     "text": [
      "小一点\n"
     ]
    },
    {
     "name": "stdin",
     "output_type": "stream",
     "text": [
      "请输入:  34\n"
     ]
    },
    {
     "name": "stdout",
     "output_type": "stream",
     "text": [
      "大一点\n"
     ]
    },
    {
     "name": "stdin",
     "output_type": "stream",
     "text": [
      "请输入:  42\n"
     ]
    },
    {
     "name": "stdout",
     "output_type": "stream",
     "text": [
      "小一点\n"
     ]
    },
    {
     "name": "stdin",
     "output_type": "stream",
     "text": [
      "请输入:  40\n"
     ]
    },
    {
     "name": "stdout",
     "output_type": "stream",
     "text": [
      "小一点\n"
     ]
    },
    {
     "name": "stdin",
     "output_type": "stream",
     "text": [
      "请输入:  38\n"
     ]
    },
    {
     "name": "stdout",
     "output_type": "stream",
     "text": [
      "小一点\n"
     ]
    },
    {
     "name": "stdin",
     "output_type": "stream",
     "text": [
      "请输入:  37\n"
     ]
    },
    {
     "name": "stdout",
     "output_type": "stream",
     "text": [
      "小一点\n"
     ]
    },
    {
     "name": "stdin",
     "output_type": "stream",
     "text": [
      "请输入:  35\n"
     ]
    },
    {
     "name": "stdout",
     "output_type": "stream",
     "text": [
      "恭喜你猜对了!\n",
      "你总共猜了7次\n"
     ]
    }
   ],
   "source": [
    "\"\"\"\n",
    "猜数字游戏\n",
    "计算机出一个1~100之间的随机数由人来猜\n",
    "计算机根据人猜的数字分别给出提示大一点/小一点/猜对了\n",
    "\n",
    "Version: 0.1\n",
    "Author: 骆昊\n",
    "\"\"\"\n",
    "\n",
    "import random\n",
    "\n",
    "answer = random.randint(1, 100)\n",
    "counter = 0\n",
    "while True:\n",
    "    counter += 1\n",
    "    number = int(input('请输入: '))\n",
    "    if number < answer:\n",
    "        print('大一点')\n",
    "    elif number > answer:\n",
    "        print('小一点')\n",
    "    else:\n",
    "        print('恭喜你猜对了!')\n",
    "        break\n",
    "print('你总共猜了%d次' % counter)\n",
    "if counter > 7:\n",
    "    print('你的智商余额明显不足')"
   ]
  },
  {
   "cell_type": "markdown",
   "id": "e476b6cf-b496-4786-ac4f-aa2875d29fde",
   "metadata": {},
   "source": [
    "**pass语句**  \n",
    "pass 语句什么都不做。它只在语法上需要一条语句但程序不需要任何操作时使用"
   ]
  },
  {
   "cell_type": "code",
   "execution_count": null,
   "id": "fe855f4e-394c-460e-8783-dbd82b945912",
   "metadata": {},
   "outputs": [],
   "source": [
    "while True:\n",
    "...     pass  # 等待键盘中断 (Ctrl+C)"
   ]
  },
  {
   "cell_type": "code",
   "execution_count": null,
   "id": "3897996d-6828-4ca8-99b4-e55aa83d59e1",
   "metadata": {},
   "outputs": [],
   "source": [
    "class MyEmptyClass:\n",
    "...     pass"
   ]
  }
 ],
 "metadata": {
  "kernelspec": {
   "display_name": "Python 3",
   "language": "python",
   "name": "python3"
  },
  "language_info": {
   "codemirror_mode": {
    "name": "ipython",
    "version": 3
   },
   "file_extension": ".py",
   "mimetype": "text/x-python",
   "name": "python",
   "nbconvert_exporter": "python",
   "pygments_lexer": "ipython3",
   "version": "3.8.10"
  }
 },
 "nbformat": 4,
 "nbformat_minor": 5
}
