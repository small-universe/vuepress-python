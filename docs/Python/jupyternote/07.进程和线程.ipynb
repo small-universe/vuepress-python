{
 "cells": [
  {
   "cell_type": "markdown",
   "id": "d46a7a9e-85c7-4112-a482-1576a677b3b0",
   "metadata": {},
   "source": [
    "## 不使用多进程"
   ]
  },
  {
   "cell_type": "code",
   "execution_count": 3,
   "id": "4e3f060a-5c15-419e-bcef-e237cf653c65",
   "metadata": {},
   "outputs": [
    {
     "name": "stdout",
     "output_type": "stream",
     "text": [
      "开始下载Python从入门到住院.pdf...\n",
      "Python从入门到住院.pdf下载完成! 耗费了10秒\n",
      "开始下载Peking Hot.avi...\n",
      "Peking Hot.avi下载完成! 耗费了5秒\n",
      "总共耗费了15.00秒.\n"
     ]
    }
   ],
   "source": [
    "from random import randint\n",
    "from time import time, sleep\n",
    "\n",
    "\n",
    "def download_task(filename):\n",
    "    print('开始下载%s...' % filename)\n",
    "    time_to_download = randint(5, 10)\n",
    "    sleep(time_to_download)\n",
    "    print('%s下载完成! 耗费了%d秒' % (filename, time_to_download))\n",
    "\n",
    "\n",
    "def main():\n",
    "    start = time()\n",
    "    download_task('Python从入门到住院.pdf')\n",
    "    download_task('Peking Hot.avi')\n",
    "    end = time()\n",
    "    print('总共耗费了%.2f秒.' % (end - start))\n",
    "\n",
    "\n",
    "if __name__ == '__main__':\n",
    "    main()"
   ]
  },
  {
   "cell_type": "markdown",
   "id": "eb9ee601-59f7-48cd-a0e4-ccd4921ac7c0",
   "metadata": {},
   "source": [
    "##### 从上面的例子可以看出，如果程序中的代码只能按顺序一点点的往下执行，那么即使执行两个毫不相关的下载任务，也需要先等待一个文件下载完成后才能开始下一个下载任务，很显然这并不合理也没有效率。\n",
    "\n"
   ]
  },
  {
   "cell_type": "markdown",
   "id": "3c18da80-11ee-494b-8278-139754843dac",
   "metadata": {},
   "source": [
    " ## 使用多进程"
   ]
  },
  {
   "cell_type": "code",
   "execution_count": 2,
   "id": "0fb1a512-4bc8-4144-b822-a483d350c626",
   "metadata": {},
   "outputs": [
    {
     "name": "stdout",
     "output_type": "stream",
     "text": [
      "总共耗费了0.08秒.\n"
     ]
    }
   ],
   "source": [
    "from multiprocessing import Process\n",
    "from os import getpid\n",
    "from random import randint\n",
    "from time import time, sleep\n",
    "\n",
    "\n",
    "def download_task(filename):\n",
    "    print('启动下载进程，进程号[%d].' % getpid())\n",
    "    print('开始下载%s...' % filename)\n",
    "    time_to_download = randint(5, 10)\n",
    "    sleep(time_to_download)\n",
    "    print('%s下载完成! 耗费了%d秒' % (filename, time_to_download))\n",
    "\n",
    "\n",
    "def main():\n",
    "    start = time()\n",
    "    p1 = Process(target=download_task, args=('Python从入门到住院.pdf', ))\n",
    "    p1.start()\n",
    "    p2 = Process(target=download_task, args=('Peking Hot.avi', ))\n",
    "    p2.start()\n",
    "    p1.join()\n",
    "    p2.join()\n",
    "    end = time()\n",
    "    print('总共耗费了%.2f秒.' % (end - start))\n",
    "\n",
    "\n",
    "if __name__ == '__main__':\n",
    "    main()"
   ]
  },
  {
   "cell_type": "code",
   "execution_count": null,
   "id": "cddc33ef-3ca0-4a6e-99df-4efc31726312",
   "metadata": {},
   "outputs": [],
   "source": []
  }
 ],
 "metadata": {
  "kernelspec": {
   "display_name": "Python 3",
   "language": "python",
   "name": "python3"
  },
  "language_info": {
   "codemirror_mode": {
    "name": "ipython",
    "version": 3
   },
   "file_extension": ".py",
   "mimetype": "text/x-python",
   "name": "python",
   "nbconvert_exporter": "python",
   "pygments_lexer": "ipython3",
   "version": "3.8.10"
  }
 },
 "nbformat": 4,
 "nbformat_minor": 5
}
