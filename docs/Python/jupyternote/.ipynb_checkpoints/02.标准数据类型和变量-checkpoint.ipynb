{
 "cells": [
  {
   "cell_type": "markdown",
   "id": "5da6ae4d-03a0-42a2-906e-601ebcef5e71",
   "metadata": {},
   "source": [
    "# 标准数据类型\n",
    "\n",
    "> Tip：在 Python 中，变量就是变量，它没有类型，我们所说的\"类型\"是变量所指的内存中对象的类型。"
   ]
  },
  {
   "cell_type": "markdown",
   "id": "a3f10dfc-1405-449d-90f6-6f199ecb7738",
   "metadata": {},
   "source": [
    "**Python 中有六个标准的数据类型：**\n",
    "\n",
    "1. Number（数字）\n",
    "2. String（字符串）\n",
    "3. List（列表）\n",
    "4. Tuple（元组）\n",
    "5. Set（集合）\n",
    "6. Dictionary（字典）\n",
    "\n",
    "**Python3 的六个标准数据类型中：**\n",
    "- 不可变数据（3 个）：Number（数字）、String（字符串）、Tuple（元组） \n",
    "- 可变数据（3 个）：List（列表）、Dictionary（字典）、Set（集合）"
   ]
  },
  {
   "cell_type": "markdown",
   "id": "c58d323a-bca9-41a5-96bd-4dc49a840124",
   "metadata": {},
   "source": [
    "## Numbers（数字）\n",
    "Python3 支持 int、float、bool、complex（复数）\n",
    "\n",
    "内置的 type() 和 isinstance() 函数可以用来查询变量所指的对象类型\n",
    "> <font color=\"red\">Tip：</font>在 Python2 中是没有布尔型的，它用数字 0 表示 False，用 1 表示 True。到 Python3 中，把 True 和 False 定义成关键字了，但它们的值还是 1 和 0，它们可以和数字相加\n"
   ]
  },
  {
   "cell_type": "code",
   "execution_count": 1,
   "id": "1d170535-9e95-45aa-b136-ae78ef7f26b8",
   "metadata": {},
   "outputs": [
    {
     "name": "stdout",
     "output_type": "stream",
     "text": [
      "<class 'int'> <class 'float'> <class 'bool'> <class 'complex'>\n"
     ]
    }
   ],
   "source": [
    "a, b, c, d = 20, 5.5, True, 4+3j;\n",
    "print(type(a), type(b), type(c), type(d))"
   ]
  },
  {
   "cell_type": "code",
   "execution_count": 2,
   "id": "effb90b2-0c0d-49cc-9d73-5a020c2d26fe",
   "metadata": {},
   "outputs": [
    {
     "data": {
      "text/plain": [
       "False"
      ]
     },
     "execution_count": 2,
     "metadata": {},
     "output_type": "execute_result"
    }
   ],
   "source": [
    "a=111.11\n",
    "isinstance(a,int)"
   ]
  },
  {
   "cell_type": "code",
   "execution_count": 3,
   "id": "798e50ca-0e93-4599-b38a-955e8d02b186",
   "metadata": {},
   "outputs": [
    {
     "data": {
      "text/plain": [
       "True"
      ]
     },
     "execution_count": 3,
     "metadata": {},
     "output_type": "execute_result"
    }
   ],
   "source": [
    "a=111\n",
    "isinstance(a,int)"
   ]
  },
  {
   "cell_type": "markdown",
   "id": "7bcc193e-298c-4b2e-9d66-630ca74b7930",
   "metadata": {},
   "source": [
    "<font color=\"red\" size=\"3\">**isinstance和type的区别：**</font>\n",
    "\n",
    "type() 不会认为子类是一种父类类型  \n",
    "isinstance() 会认为子类是一种父类类型"
   ]
  },
  {
   "cell_type": "code",
   "execution_count": 4,
   "id": "a8212c06-1567-4e1c-b585-35dab441850c",
   "metadata": {},
   "outputs": [],
   "source": [
    "class A:\n",
    "    pass\n",
    "\n",
    "'''\n",
    "Python中的继承，这里B是A的子类\n",
    "'''\n",
    "class B(A):\n",
    "    pass"
   ]
  },
  {
   "cell_type": "code",
   "execution_count": 5,
   "id": "84a26370-9498-42a3-a5d2-9b976869558a",
   "metadata": {},
   "outputs": [
    {
     "data": {
      "text/plain": [
       "True"
      ]
     },
     "execution_count": 5,
     "metadata": {},
     "output_type": "execute_result"
    }
   ],
   "source": [
    "isinstance(A(),A)"
   ]
  },
  {
   "cell_type": "code",
   "execution_count": 6,
   "id": "fc5dcd28-eebd-494e-aceb-56a076e35fca",
   "metadata": {},
   "outputs": [
    {
     "data": {
      "text/plain": [
       "True"
      ]
     },
     "execution_count": 6,
     "metadata": {},
     "output_type": "execute_result"
    }
   ],
   "source": [
    "isinstance(B(), A)"
   ]
  },
  {
   "cell_type": "code",
   "execution_count": 7,
   "id": "680e1111-aabd-4903-b610-3f728a5ab63c",
   "metadata": {},
   "outputs": [
    {
     "data": {
      "text/plain": [
       "False"
      ]
     },
     "execution_count": 7,
     "metadata": {},
     "output_type": "execute_result"
    }
   ],
   "source": [
    "type(B()) == A"
   ]
  },
  {
   "cell_type": "markdown",
   "id": "47313aff-99d0-4858-b640-f23b99267f7f",
   "metadata": {},
   "source": [
    "### 创建Number对象\n",
    "当你指定一个值时，Number 对象就会被创建"
   ]
  },
  {
   "cell_type": "code",
   "execution_count": 8,
   "id": "ce71661c-1365-449a-b3f0-133d8d9667ef",
   "metadata": {},
   "outputs": [],
   "source": [
    "var = 1.0\n",
    "var_a = 1\n",
    "var_b = 10"
   ]
  },
  {
   "cell_type": "markdown",
   "id": "b8bfa171-916a-494a-9849-4f36f9d34238",
   "metadata": {},
   "source": [
    "### 删除对象引用\n",
    "对象只能由垃圾回收器回收，我们能删除的只是引用"
   ]
  },
  {
   "cell_type": "code",
   "execution_count": 9,
   "id": "0cacf628-18ae-46d4-b799-a544fd3337ad",
   "metadata": {},
   "outputs": [],
   "source": [
    "del var  # 删除单个引用\n",
    "del var_a, var_b  # 同时删除多个引用"
   ]
  },
  {
   "cell_type": "markdown",
   "id": "5c02720c-e5a8-4652-abc9-c509463df1f2",
   "metadata": {},
   "source": [
    "### 数值运算"
   ]
  },
  {
   "cell_type": "code",
   "execution_count": 10,
   "id": "fd6e9edf-7372-43a3-b20a-6a0d17b85e66",
   "metadata": {},
   "outputs": [
    {
     "data": {
      "text/plain": [
       "32"
      ]
     },
     "execution_count": 10,
     "metadata": {},
     "output_type": "execute_result"
    }
   ],
   "source": [
    "5 + 4  # 加法\n",
    "\n",
    "4.3 - 2 # 减法\n",
    "\n",
    "3 * 7  # 乘法\n",
    "\n",
    "2 / 4  # 除法，得到一个浮点数\n",
    "\n",
    "2 // 4 # 除法，得到一个整数\n",
    "\n",
    "17 % 3 # 取余 \n",
    "\n",
    "2 ** 5 # 乘方\n"
   ]
  },
  {
   "cell_type": "markdown",
   "id": "772089d7-e9b4-49b3-af71-cda1270dcf11",
   "metadata": {},
   "source": [
    "### 注意\n",
    "\n",
    "1. Python 可以同时为多个变量赋值，如 a, b = 1, 2  \n",
    "2. 一个变量可以通过赋值指向不同类型的对象。\n",
    "3. 数值的除法（/）总是返回一个浮点数，要获取整数使用//操作符。\n",
    "4. 在混合计算时，Python 会把整型转换成为浮点数。"
   ]
  },
  {
   "cell_type": "markdown",
   "id": "99991b9f-7e7c-469e-9c9c-2545448d7723",
   "metadata": {},
   "source": [
    "**验证：**"
   ]
  },
  {
   "cell_type": "code",
   "execution_count": 11,
   "id": "79bd000c-3214-4531-820a-827f45c7ecb7",
   "metadata": {},
   "outputs": [
    {
     "name": "stdout",
     "output_type": "stream",
     "text": [
      "1\n",
      "2\n"
     ]
    }
   ],
   "source": [
    "a, b = 1, 2\n",
    "print(a)\n",
    "print(b)"
   ]
  },
  {
   "cell_type": "code",
   "execution_count": 12,
   "id": "3ab7c113-800b-4140-bb7b-b735d6956479",
   "metadata": {},
   "outputs": [
    {
     "data": {
      "text/plain": [
       "__main__.B"
      ]
     },
     "execution_count": 12,
     "metadata": {},
     "output_type": "execute_result"
    }
   ],
   "source": [
    "var = A()\n",
    "var = B()\n",
    "type(var)"
   ]
  },
  {
   "cell_type": "code",
   "execution_count": 13,
   "id": "224d207d-04b2-4a82-8746-c881c8ad7a1f",
   "metadata": {},
   "outputs": [
    {
     "data": {
      "text/plain": [
       "1.0"
      ]
     },
     "execution_count": 13,
     "metadata": {},
     "output_type": "execute_result"
    }
   ],
   "source": [
    "4/4"
   ]
  },
  {
   "cell_type": "code",
   "execution_count": 14,
   "id": "7463f248-70f9-40cf-bd08-4cc0e071d343",
   "metadata": {},
   "outputs": [
    {
     "data": {
      "text/plain": [
       "0"
      ]
     },
     "execution_count": 14,
     "metadata": {},
     "output_type": "execute_result"
    }
   ],
   "source": [
    "4//5"
   ]
  },
  {
   "cell_type": "markdown",
   "id": "4f99db9d-d208-4029-af04-3d65c05e8135",
   "metadata": {},
   "source": [
    "## String（字符串）"
   ]
  },
  {
   "cell_type": "markdown",
   "id": "1f856bf9-7b1c-48b1-a6ce-c8d4f763ee78",
   "metadata": {},
   "source": [
    "### 字符串赋值\n",
    "Python 中的字符串 str 用单引号(' ')或双引号 (\" \") 括起来，同时使用反斜杠 (\\) 转义特殊字符"
   ]
  },
  {
   "cell_type": "code",
   "execution_count": 15,
   "id": "6b6fc895-67a2-4708-8341-8477b9aa4b5c",
   "metadata": {},
   "outputs": [
    {
     "name": "stdout",
     "output_type": "stream",
     "text": [
      "Yes,he doesn't <class 'str'> 14\n"
     ]
    }
   ],
   "source": [
    "answer = 'Yes,he doesn\\'t'\n",
    "print(answer, type(answer), len(answer))"
   ]
  },
  {
   "cell_type": "markdown",
   "id": "6cc4f582-ab37-46dd-800b-296c0ff5a6ce",
   "metadata": {},
   "source": [
    "### 字符串的格式化输出\n",
    "如果你**不想让反斜杠发生转义**，可以在字符串前面添加一个 r，表示原始字符串"
   ]
  },
  {
   "cell_type": "code",
   "execution_count": 16,
   "id": "c221e044-f1d0-41da-9399-0e1d59a01b5e",
   "metadata": {},
   "outputs": [
    {
     "name": "stdout",
     "output_type": "stream",
     "text": [
      "C:\\some\n",
      "ame\n",
      "\n",
      "C:\\some\\name\n"
     ]
    }
   ],
   "source": [
    "print('C:\\some\\name\\n')\n",
    "print(r'C:\\some\\name')"
   ]
  },
  {
   "cell_type": "markdown",
   "id": "b04820e3-78d5-4cd1-a11d-aea7d5f770d5",
   "metadata": {},
   "source": [
    " "
   ]
  },
  {
   "cell_type": "markdown",
   "id": "fc9c20ec-f9ef-48b8-9feb-5d476c5c3ec3",
   "metadata": {},
   "source": [
    "**带有运算的格式化输出**"
   ]
  },
  {
   "cell_type": "code",
   "execution_count": 17,
   "id": "5c41558f-1193-4ec5-9b0a-5ffcc6c37e68",
   "metadata": {},
   "outputs": [
    {
     "name": "stdout",
     "output_type": "stream",
     "text": [
      "5 * 10 = 50\n"
     ]
    }
   ],
   "source": [
    "a, b = 5, 10\n",
    "print('%d * %d = %d' % (a, b, a * b))"
   ]
  },
  {
   "cell_type": "markdown",
   "id": "27b66034-46c4-40dc-a87a-9ab1fb3383fe",
   "metadata": {},
   "source": [
    "或者用字符串提供的方法来完成字符串的格式"
   ]
  },
  {
   "cell_type": "code",
   "execution_count": 18,
   "id": "b6069a2c-647c-41a7-ae82-27f4cfaebf6d",
   "metadata": {},
   "outputs": [
    {
     "name": "stdout",
     "output_type": "stream",
     "text": [
      "5 * 10 = 50\n"
     ]
    }
   ],
   "source": [
    "a, b = 5, 10\n",
    "print('{0} * {1} = {2}'.format(a, b, a * b))"
   ]
  },
  {
   "cell_type": "markdown",
   "id": "5232ba7a-e067-44fb-a279-0255f9b78c25",
   "metadata": {},
   "source": [
    "Python 3.6以后，格式化字符串还有更为简洁的书写方式，就是在字符串前加上字母`f`，我们可以使用下面的**语法糖**来简化上面的代码"
   ]
  },
  {
   "cell_type": "code",
   "execution_count": 19,
   "id": "6305a338-e2a4-4299-a2b7-f09ff353586f",
   "metadata": {},
   "outputs": [
    {
     "name": "stdout",
     "output_type": "stream",
     "text": [
      "5 * 15 = 75\n"
     ]
    }
   ],
   "source": [
    "a, b = 5, 15\n",
    "print(f'{a} * {b} = {a * b}')"
   ]
  },
  {
   "cell_type": "markdown",
   "id": "8e2cd3cf-374b-43c3-be98-9979afd56ee6",
   "metadata": {},
   "source": [
    "### 字符串拼接\n",
    "另外，反斜杠可以作为续行符，表示下一行是上一行的延续。还可以使用\"\"\"...\"\"\"或者'''...'''跨越多行。\n",
    "字符串可以使用 + 运算符串连接在一起，或者用 * 运算符重复"
   ]
  },
  {
   "cell_type": "code",
   "execution_count": 20,
   "id": "e9c024d8-d91f-45d0-b10c-aae3275b960e",
   "metadata": {},
   "outputs": [
    {
     "name": "stdout",
     "output_type": "stream",
     "text": [
      "Le vent se lève, il faut tenter de vivre. \n",
      "起风了，唯有努力生存。\n",
      "（纵有疾风起，人生不言弃。）\n",
      "string mymymy\n"
     ]
    }
   ],
   "source": [
    "# 字符串跨多行\n",
    "str2 = '''Le vent se lève, il faut tenter de vivre. \n",
    "起风了，唯有努力生存。\n",
    "（纵有疾风起，人生不言弃。）'''\n",
    "print(str2)\n",
    "print('str'+'ing', 'my'*3)"
   ]
  },
  {
   "cell_type": "markdown",
   "id": "c985a6f3-694e-4bae-9261-40b5edfba5f5",
   "metadata": {},
   "source": [
    "### 字符串成员运算\n",
    "可以使用`in`和`not in`来判断一个字符串是否包含另外一个字符串（成员运算"
   ]
  },
  {
   "cell_type": "code",
   "execution_count": 107,
   "id": "030bab69-f75b-4ff2-a8db-4c0467703d92",
   "metadata": {},
   "outputs": [
    {
     "name": "stdout",
     "output_type": "stream",
     "text": [
      "hello hello hello \n",
      "hello hello hello world\n",
      "True\n",
      "True\n"
     ]
    }
   ],
   "source": [
    "str1 = 'hello ' * 3\n",
    "print(str1) # hello hello hello \n",
    "str2 = 'world'\n",
    "str1 += str2\n",
    "print(str1) # hello hello hello world\n",
    "print('ll' in str1) # True\n",
    "print('good' not in str1) # False"
   ]
  },
  {
   "cell_type": "markdown",
   "id": "df04a230-caca-4713-ae4d-42a6fc4aa102",
   "metadata": {},
   "source": [
    "### 字符串索引\n",
    "Python 中的字符串有两种索引方式，第一种是从左往右，从 0 开始依次增加；第二种是从右往左，从 -1 开始依次减少。   \n",
    "<font color=\"red\">注意：</font>没有单独的字符类型，一个字符就是长度为 1 的字符串"
   ]
  },
  {
   "cell_type": "code",
   "execution_count": 82,
   "id": "edbf6cf5-f940-41ad-8a62-26c8be036cf3",
   "metadata": {},
   "outputs": [
    {
     "name": "stdout",
     "output_type": "stream",
     "text": [
      "P n\n",
      "n P\n"
     ]
    }
   ],
   "source": [
    "word = 'Python'\n",
    "print(word[0], word[5])\n",
    "print(word[-1], word[-6])"
   ]
  },
  {
   "cell_type": "markdown",
   "id": "5553e214-6671-499d-bb62-bc69ed0241de",
   "metadata": {},
   "source": [
    "### 字符串切片\n",
    "还可以对字符串进行切片，获取一段子串。用冒号分隔两个索引，形式为变量[头下标:尾下标]  \n",
    "截取的范围是<font color=\"red\" size=5>左闭右开</font>的，并且两个索引都可以省略(代表截取整个字符串)"
   ]
  },
  {
   "cell_type": "code",
   "execution_count": 83,
   "id": "4e7966a0-7fa0-4855-8635-549fbfdc039d",
   "metadata": {},
   "outputs": [
    {
     "name": "stdout",
     "output_type": "stream",
     "text": [
      "love\n",
      "ilovepython\n",
      "python\n",
      "love\n"
     ]
    }
   ],
   "source": [
    "word = 'ilovepython'\n",
    "print(word[1:5])\n",
    "print(word[:])\n",
    "print(word[5:])\n",
    "print(word[-10:-6])"
   ]
  },
  {
   "cell_type": "markdown",
   "id": "e25a87fe-d5ab-49be-9583-86eefb539d9f",
   "metadata": {},
   "source": [
    "### 字符串的常用处理"
   ]
  },
  {
   "cell_type": "code",
   "execution_count": 84,
   "id": "063b5093-4f66-458d-84f5-52971a6edab5",
   "metadata": {},
   "outputs": [],
   "source": [
    "str1 = 'hello, world!'"
   ]
  },
  {
   "cell_type": "markdown",
   "id": "4527b674-815a-4fe1-96c6-969c37e1b7f2",
   "metadata": {},
   "source": [
    "**1. 通过内置函数len计算字符串的长度**"
   ]
  },
  {
   "cell_type": "code",
   "execution_count": 85,
   "id": "407f0d4a-0e85-46dd-b740-5ed00b0aec78",
   "metadata": {},
   "outputs": [
    {
     "name": "stdout",
     "output_type": "stream",
     "text": [
      "13\n"
     ]
    }
   ],
   "source": [
    "print(len(str1)) # 13"
   ]
  },
  {
   "cell_type": "markdown",
   "id": "ed6ec59c-5f1c-4723-83b8-3169f8687669",
   "metadata": {},
   "source": [
    "**2. 获得字符串首字母大写的拷贝**"
   ]
  },
  {
   "cell_type": "code",
   "execution_count": 86,
   "id": "dd0848a1-9ee9-41af-805a-68610fa33544",
   "metadata": {},
   "outputs": [
    {
     "name": "stdout",
     "output_type": "stream",
     "text": [
      "Hello, world!\n"
     ]
    }
   ],
   "source": [
    "print(str1.capitalize())"
   ]
  },
  {
   "cell_type": "markdown",
   "id": "8ceab014-a941-4b76-ad0e-aaf90dc8268a",
   "metadata": {},
   "source": [
    "**3. 获得字符串每个单词首字母大写的拷贝**"
   ]
  },
  {
   "cell_type": "code",
   "execution_count": 87,
   "id": "48f8bc96-ec59-4f21-9ca0-689a67d1e420",
   "metadata": {},
   "outputs": [
    {
     "name": "stdout",
     "output_type": "stream",
     "text": [
      "Hello, World!\n"
     ]
    }
   ],
   "source": [
    "print(str1.title())"
   ]
  },
  {
   "cell_type": "markdown",
   "id": "b0d6b08d-53ae-42b9-b8f1-868c1a47c5ee",
   "metadata": {},
   "source": [
    "**4. 获得字符串变大写后的拷贝**"
   ]
  },
  {
   "cell_type": "code",
   "execution_count": 88,
   "id": "8207c5e7-c569-4c6b-acb8-bb2ef2f26b7f",
   "metadata": {},
   "outputs": [
    {
     "name": "stdout",
     "output_type": "stream",
     "text": [
      "HELLO, WORLD!\n"
     ]
    }
   ],
   "source": [
    "print(str1.upper())"
   ]
  },
  {
   "cell_type": "markdown",
   "id": "a3c3e667-d71a-4c41-830e-0098652c5ab5",
   "metadata": {},
   "source": [
    "**5. 从字符串中查找子串所在位置**"
   ]
  },
  {
   "cell_type": "code",
   "execution_count": 89,
   "id": "cdf4165b-25b3-4c57-8c03-bb2e5f580615",
   "metadata": {},
   "outputs": [
    {
     "name": "stdout",
     "output_type": "stream",
     "text": [
      "8\n",
      "-1\n"
     ]
    }
   ],
   "source": [
    "print(str1.find('or'))\n",
    "print(str1.find('shit'))"
   ]
  },
  {
   "cell_type": "markdown",
   "id": "bba35992-a39d-4b2f-ba23-1b3685a197a4",
   "metadata": {},
   "source": [
    "**6. 与find类似但找不到子串时会引发异常**"
   ]
  },
  {
   "cell_type": "code",
   "execution_count": 90,
   "id": "31571bf9-6530-461a-9d6c-ee68bf697a80",
   "metadata": {},
   "outputs": [
    {
     "name": "stdout",
     "output_type": "stream",
     "text": [
      "8\n"
     ]
    },
    {
     "ename": "ValueError",
     "evalue": "substring not found",
     "output_type": "error",
     "traceback": [
      "\u001b[1;31m---------------------------------------------------------------------------\u001b[0m",
      "\u001b[1;31mValueError\u001b[0m                                Traceback (most recent call last)",
      "\u001b[1;32m<ipython-input-90-751eec63acd1>\u001b[0m in \u001b[0;36m<module>\u001b[1;34m\u001b[0m\n\u001b[0;32m      1\u001b[0m \u001b[0mprint\u001b[0m\u001b[1;33m(\u001b[0m\u001b[0mstr1\u001b[0m\u001b[1;33m.\u001b[0m\u001b[0mindex\u001b[0m\u001b[1;33m(\u001b[0m\u001b[1;34m'or'\u001b[0m\u001b[1;33m)\u001b[0m\u001b[1;33m)\u001b[0m\u001b[1;33m\u001b[0m\u001b[1;33m\u001b[0m\u001b[0m\n\u001b[1;32m----> 2\u001b[1;33m \u001b[0mprint\u001b[0m\u001b[1;33m(\u001b[0m\u001b[0mstr1\u001b[0m\u001b[1;33m.\u001b[0m\u001b[0mindex\u001b[0m\u001b[1;33m(\u001b[0m\u001b[1;34m'shit'\u001b[0m\u001b[1;33m)\u001b[0m\u001b[1;33m)\u001b[0m\u001b[1;33m\u001b[0m\u001b[1;33m\u001b[0m\u001b[0m\n\u001b[0m",
      "\u001b[1;31mValueError\u001b[0m: substring not found"
     ]
    }
   ],
   "source": [
    "print(str1.index('or'))\n",
    "print(str1.index('shit'))"
   ]
  },
  {
   "cell_type": "markdown",
   "id": "26684021-04c2-43b4-b18b-a89e8881f137",
   "metadata": {},
   "source": [
    "**7. 检查字符串是否以指定的字符串开头**"
   ]
  },
  {
   "cell_type": "code",
   "execution_count": null,
   "id": "f8f06762-0561-4407-986e-c79d33be7f64",
   "metadata": {},
   "outputs": [],
   "source": [
    "print(str1.startswith('He'))\n",
    "print(str1.startswith('hel'))"
   ]
  },
  {
   "cell_type": "markdown",
   "id": "e97e91b2-e4ce-4e5d-b16e-34c82eaa0d36",
   "metadata": {},
   "source": [
    "**8. 检查字符串是否以指定的字符串结尾**"
   ]
  },
  {
   "cell_type": "code",
   "execution_count": 91,
   "id": "5f94ff1f-f140-4b79-81d3-bdf9455ad481",
   "metadata": {},
   "outputs": [
    {
     "name": "stdout",
     "output_type": "stream",
     "text": [
      "True\n"
     ]
    }
   ],
   "source": [
    "print(str1.endswith('!'))"
   ]
  },
  {
   "cell_type": "markdown",
   "id": "7aebd5b6-ea84-49d1-95e9-8d2db1e1cccc",
   "metadata": {},
   "source": [
    "**9. 将字符串以指定的宽度居中并在两侧填充指定的字符**"
   ]
  },
  {
   "cell_type": "code",
   "execution_count": 92,
   "id": "4e886be7-5aea-4208-8bcc-6dae99bfaecf",
   "metadata": {},
   "outputs": [
    {
     "name": "stdout",
     "output_type": "stream",
     "text": [
      "******************hello, world!*******************\n"
     ]
    }
   ],
   "source": [
    "print(str1.center(50, '*'))"
   ]
  },
  {
   "cell_type": "markdown",
   "id": "c815fd91-0851-47af-a5ca-6baf20d905ed",
   "metadata": {},
   "source": [
    "**10. 将字符串以指定的宽度靠右放置左侧填充指定的字符**"
   ]
  },
  {
   "cell_type": "code",
   "execution_count": 93,
   "id": "5543a203-eec4-4a2c-803f-34ede166f14e",
   "metadata": {},
   "outputs": [
    {
     "name": "stdout",
     "output_type": "stream",
     "text": [
      "-------------------------------------hello, world!\n"
     ]
    }
   ],
   "source": [
    "print(str1.rjust(50, '-'))"
   ]
  },
  {
   "cell_type": "markdown",
   "id": "a2f8280a-c37e-40f1-9b14-5ce763e434f6",
   "metadata": {},
   "source": [
    "**11. 检查字符串是否由数字构成**"
   ]
  },
  {
   "cell_type": "code",
   "execution_count": 94,
   "id": "c794fdf3-aab5-4e79-910a-31e699e38707",
   "metadata": {},
   "outputs": [
    {
     "name": "stdout",
     "output_type": "stream",
     "text": [
      "False\n"
     ]
    }
   ],
   "source": [
    "str2 = 'abc123456'\n",
    "print(str2.isdigit())"
   ]
  },
  {
   "cell_type": "markdown",
   "id": "292cfee0-d62a-4714-99b6-865e32d6a2fa",
   "metadata": {},
   "source": [
    "**12. 检查字符串是否以字母构成**"
   ]
  },
  {
   "cell_type": "code",
   "execution_count": 95,
   "id": "40339512-adb4-4fb6-8230-a593cd98a757",
   "metadata": {},
   "outputs": [
    {
     "name": "stdout",
     "output_type": "stream",
     "text": [
      "False\n"
     ]
    }
   ],
   "source": [
    "print(str2.isalpha()) "
   ]
  },
  {
   "cell_type": "markdown",
   "id": "0e8827da-0eca-422a-b190-ecb54f1a3f3f",
   "metadata": {},
   "source": [
    "**13. 检查字符串是否以数字和字母构成**"
   ]
  },
  {
   "cell_type": "code",
   "execution_count": 96,
   "id": "1ffb367b-bac5-48c4-b768-cd9ab483396a",
   "metadata": {},
   "outputs": [
    {
     "name": "stdout",
     "output_type": "stream",
     "text": [
      "True\n"
     ]
    }
   ],
   "source": [
    "print(str2.isalnum())"
   ]
  },
  {
   "cell_type": "markdown",
   "id": "be790fa9-2645-4e7c-9c27-6dbb954b527f",
   "metadata": {},
   "source": [
    "**14. 获得字符串修剪左右两侧空格之后的拷贝**"
   ]
  },
  {
   "cell_type": "code",
   "execution_count": 97,
   "id": "1b30fd3b-4d0a-4d24-b648-420d7ae57acb",
   "metadata": {},
   "outputs": [
    {
     "name": "stdout",
     "output_type": "stream",
     "text": [
      "jackfrued@126.com\n"
     ]
    }
   ],
   "source": [
    "str3 = '  jackfrued@126.com '\n",
    "print(str3.strip())"
   ]
  },
  {
   "cell_type": "markdown",
   "id": "8fcd3d3f-f076-498a-977c-de6fdce78d2a",
   "metadata": {},
   "source": [
    "与 C 语言中的字符串不同的是，Python 字符串不能被改变（这一点跟Java是一样的）。向一个索引位置赋值，比如 word[0] = 'm' 会导致错误\n",
    "\n",
    "### 注意\n",
    "\n",
    "1. 反斜杠可以用来转义，使用 r 可以让反斜杠不发生转义\n",
    "2. 字符串可以用 + 运算符连接在一起，用 * 运算符重复\n",
    "3. Python 中的字符串有两种索引方式，从左往右以 0 开始，从右往左以 -1 开始\n",
    "4. Python 中的字符串不能改变"
   ]
  },
  {
   "cell_type": "markdown",
   "id": "88f168ee-5250-4c90-bb2e-86ba742126a6",
   "metadata": {},
   "source": [
    "## List（列表）\n",
    "List（列表） 是 Python 中使用最频繁的数据类型\n",
    "\n",
    "列表是写在方括号之间、用逗号分隔开的元素列表。列表中元素的类型可以不相同"
   ]
  },
  {
   "cell_type": "code",
   "execution_count": 98,
   "id": "a83ad6aa-9579-4f59-b774-622077865624",
   "metadata": {},
   "outputs": [
    {
     "name": "stdout",
     "output_type": "stream",
     "text": [
      "5\n"
     ]
    }
   ],
   "source": [
    "list_a = ['him', 25, 100, 'her']\n",
    "print(a)"
   ]
  },
  {
   "cell_type": "markdown",
   "id": "b88ae0d4-6f7e-4f2a-b25a-cf64f39c59d6",
   "metadata": {},
   "source": [
    "### 列表的切片\n",
    "和字符串一样，列表同样可以被索引和切片，列表被切片后返回一个包含所需元素的新列表"
   ]
  },
  {
   "cell_type": "code",
   "execution_count": 99,
   "id": "67699cb5-e8e9-429b-a04b-893a974ebb62",
   "metadata": {},
   "outputs": [
    {
     "name": "stdout",
     "output_type": "stream",
     "text": [
      "[1, 2, 3]\n",
      "[1, 2, 3, 4, 5]\n",
      "[4]\n",
      "[4, 5]\n"
     ]
    }
   ],
   "source": [
    "list_a = [1, 2, 3, 4, 5]\n",
    "print(list_a[0:3])\n",
    "print(list_a[:])\n",
    "print(list_a[-2:-1])\n",
    "print(list_a[-2:])"
   ]
  },
  {
   "cell_type": "markdown",
   "id": "1ddb0392-ab18-4c58-b8fb-d9202265920b",
   "metadata": {},
   "source": [
    "### 列表的拼接"
   ]
  },
  {
   "cell_type": "code",
   "execution_count": 100,
   "id": "7becf10a-1e3b-4477-aefb-466c6b549c41",
   "metadata": {},
   "outputs": [
    {
     "name": "stdout",
     "output_type": "stream",
     "text": [
      "[1, 2, 3, 4, 5, 6, 7, 8]\n"
     ]
    }
   ],
   "source": [
    "list_comb = list_a + [6, 7, 8]\n",
    "print(list_comb)"
   ]
  },
  {
   "cell_type": "markdown",
   "id": "bcf0bf66-c392-416f-b885-ce19f9c53442",
   "metadata": {},
   "source": [
    "### 对列表的增删改查\n",
    "与 Python 字符串不一样的是，列表中的元素是可以改变的，List 内置了有很多方法，例如 append()、pop() 等"
   ]
  },
  {
   "cell_type": "code",
   "execution_count": 101,
   "id": "b12a354c-3481-4c51-bcb0-ad9225d1cf46",
   "metadata": {},
   "outputs": [],
   "source": [
    "fruits = ['grape', 'apple', 'strawberry', 'waxberry']\n",
    "fruits += ['pitaya', 'pear', 'mango']"
   ]
  },
  {
   "cell_type": "markdown",
   "id": "ccb29765-6305-42ef-8a6e-fedaa43b272d",
   "metadata": {},
   "source": [
    "**1. 列表切片实现截取、删除**"
   ]
  },
  {
   "cell_type": "code",
   "execution_count": 102,
   "id": "52b7a6bd-38c8-470e-b475-ed4c92c2b853",
   "metadata": {},
   "outputs": [
    {
     "name": "stdout",
     "output_type": "stream",
     "text": [
      "['apple', 'strawberry', 'waxberry']\n"
     ]
    }
   ],
   "source": [
    "fruits2 = fruits[1:4]\n",
    "print(fruits2) "
   ]
  },
  {
   "cell_type": "markdown",
   "id": "e98ab844-d669-4ea4-b7be-0a019e953664",
   "metadata": {},
   "source": [
    "**2. 列表切片实现删除**"
   ]
  },
  {
   "cell_type": "code",
   "execution_count": 103,
   "id": "9aef0189-7123-4aad-ae23-dcc726df7046",
   "metadata": {},
   "outputs": [
    {
     "name": "stdout",
     "output_type": "stream",
     "text": [
      "['grape', 'apple', 'strawberry', 'waxberry']\n"
     ]
    }
   ],
   "source": [
    "fruits[4:] = []\n",
    "print(fruits)"
   ]
  },
  {
   "cell_type": "markdown",
   "id": "7e806e67-a5e8-450e-84bd-f8d465a68c53",
   "metadata": {},
   "source": [
    "**3. 可以通过完整切片操作来复制列表**"
   ]
  },
  {
   "cell_type": "code",
   "execution_count": 104,
   "id": "b70fa7e6-fb16-4e07-9d8d-e195690994c8",
   "metadata": {},
   "outputs": [
    {
     "name": "stdout",
     "output_type": "stream",
     "text": [
      "['grape', 'apple', 'strawberry', 'waxberry']\n",
      "['apple', 'strawberry']\n"
     ]
    }
   ],
   "source": [
    "fruits3 = fruits[:]\n",
    "print(fruits3)\n",
    "fruits4 = fruits[-3:-1]\n",
    "print(fruits4)"
   ]
  },
  {
   "cell_type": "markdown",
   "id": "89505eb3-2a6a-4b3f-83aa-275e14cdbfc0",
   "metadata": {},
   "source": [
    "**4. 可以通过反向切片操作来获得倒转后的列表的拷贝**"
   ]
  },
  {
   "cell_type": "code",
   "execution_count": 105,
   "id": "5ec2454a-cd00-40fd-964b-f126b7b5760e",
   "metadata": {},
   "outputs": [
    {
     "name": "stdout",
     "output_type": "stream",
     "text": [
      "['waxberry', 'strawberry', 'apple', 'grape']\n"
     ]
    }
   ],
   "source": [
    "fruits5 = fruits[::-1]\n",
    "print(fruits5)"
   ]
  },
  {
   "cell_type": "markdown",
   "id": "daaba3e7-d784-457b-9f12-0e9e4485735f",
   "metadata": {},
   "source": [
    "### 列表的遍历"
   ]
  },
  {
   "cell_type": "markdown",
   "id": "b1e32629-feb9-437c-8020-500d1893f54a",
   "metadata": {},
   "source": [
    "**1. 通过循环用下标遍历列表元素**"
   ]
  },
  {
   "cell_type": "code",
   "execution_count": 106,
   "id": "bf22582c-28ae-4cf0-af69-6f0c87544802",
   "metadata": {},
   "outputs": [
    {
     "name": "stdout",
     "output_type": "stream",
     "text": [
      "tomcat1\n",
      "tomcat2\n",
      "tomcat3\n"
     ]
    }
   ],
   "source": [
    "list_a = ['tomcat1', 'tomcat2', 'tomcat3']\n",
    "for index in range(len(list_a)):\n",
    "    print(list_a[index])"
   ]
  },
  {
   "cell_type": "markdown",
   "id": "0a8d9672-1954-40af-a699-bfb5103a106b",
   "metadata": {},
   "source": [
    "**2. 通过for循环遍历列表元素**"
   ]
  },
  {
   "cell_type": "code",
   "execution_count": 45,
   "id": "c60c6234-8aa9-4cbf-b301-8d75257422ab",
   "metadata": {},
   "outputs": [
    {
     "name": "stdout",
     "output_type": "stream",
     "text": [
      "tomcat1\n",
      "tomcat2\n",
      "tomcat3\n"
     ]
    }
   ],
   "source": [
    "for elem in list_a:\n",
    "    print(elem)"
   ]
  },
  {
   "cell_type": "markdown",
   "id": "2c2ac35a-bff4-4bf6-b0a4-fb39fb816df5",
   "metadata": {},
   "source": [
    "**3. 通过enumerate函数处理列表之后再遍历可以同时获得元素索引和值**"
   ]
  },
  {
   "cell_type": "code",
   "execution_count": 46,
   "id": "276655b3-fe0e-4a12-98ef-b3d7a1ee0e75",
   "metadata": {},
   "outputs": [
    {
     "name": "stdout",
     "output_type": "stream",
     "text": [
      "0 tomcat1\n",
      "1 tomcat2\n",
      "2 tomcat3\n"
     ]
    }
   ],
   "source": [
    "for index, elem in enumerate(list_a):\n",
    "    print(index, elem)"
   ]
  },
  {
   "cell_type": "markdown",
   "id": "4b7db434-406e-46ab-8ecb-018a43ac44ad",
   "metadata": {},
   "source": [
    "### 列表的排序"
   ]
  },
  {
   "cell_type": "code",
   "execution_count": 47,
   "id": "15c364a4-94c0-45a2-981b-01dcab51f362",
   "metadata": {},
   "outputs": [],
   "source": [
    "list1 = ['orange', 'apple', 'zoo', 'internationalization', 'blueberry']"
   ]
  },
  {
   "cell_type": "markdown",
   "id": "35b7fb9d-5e1e-40e6-bfe9-dad9c21bd633",
   "metadata": {},
   "source": [
    "**1. sorted函数返回列表排序后的拷贝<font color=red>不会修改传入的列表</font>，函数的设计就应该像sorted函数一样尽可能不产生副作用**"
   ]
  },
  {
   "cell_type": "code",
   "execution_count": 48,
   "id": "00c7d1cd-ea6d-4028-b7ea-0189a515034c",
   "metadata": {},
   "outputs": [
    {
     "name": "stdout",
     "output_type": "stream",
     "text": [
      "['orange', 'apple', 'zoo', 'internationalization', 'blueberry']\n",
      "['apple', 'blueberry', 'internationalization', 'orange', 'zoo']\n"
     ]
    }
   ],
   "source": [
    "list2 = sorted(list1)\n",
    "print(list1)\n",
    "print(list2)"
   ]
  },
  {
   "cell_type": "markdown",
   "id": "d4d901c2-bc86-4114-9fda-69f965731720",
   "metadata": {},
   "source": [
    "**2. 通过key关键字参数指定根据字符串长度进行排序而不是默认的字母表顺序**"
   ]
  },
  {
   "cell_type": "code",
   "execution_count": 49,
   "id": "2e291e40-bfc9-42f1-9990-7da55aeb883f",
   "metadata": {},
   "outputs": [
    {
     "name": "stdout",
     "output_type": "stream",
     "text": [
      "['zoo', 'apple', 'orange', 'blueberry', 'internationalization']\n"
     ]
    }
   ],
   "source": [
    "list3 = sorted(list1, key=len)\n",
    "print(list3)"
   ]
  },
  {
   "cell_type": "markdown",
   "id": "010e20cb-c7ea-44cb-95c5-8e7e4903eb41",
   "metadata": {},
   "source": [
    "**3. 列表元素反转**(<font color=red>先自然排序后再进行顺序的反转</font>)"
   ]
  },
  {
   "cell_type": "code",
   "execution_count": 50,
   "id": "2cabf8e1-5dbd-4525-99da-4d863f370dc5",
   "metadata": {},
   "outputs": [
    {
     "name": "stdout",
     "output_type": "stream",
     "text": [
      "['zoo', 'orange', 'internationalization', 'blueberry', 'apple']\n"
     ]
    }
   ],
   "source": [
    "list4 = sorted(list1, reverse=True)\n",
    "print(list4)"
   ]
  },
  {
   "cell_type": "markdown",
   "id": "56b08f1c-6457-4074-99fa-451d5b387e4a",
   "metadata": {},
   "source": [
    "**4. 给列表对象发出排序消息直接在列表对象上进行排序**"
   ]
  },
  {
   "cell_type": "code",
   "execution_count": 51,
   "id": "9d5b3734-ad57-4d43-a211-21220dab6227",
   "metadata": {},
   "outputs": [
    {
     "name": "stdout",
     "output_type": "stream",
     "text": [
      "['apple', 'blueberry', 'internationalization', 'orange', 'zoo']\n",
      "['zoo', 'orange', 'internationalization', 'blueberry', 'apple']\n"
     ]
    }
   ],
   "source": [
    "list1.sort()\n",
    "print(list1)\n",
    "\n",
    "list1.sort(reverse=True)\n",
    "print(list1)"
   ]
  },
  {
   "cell_type": "markdown",
   "id": "ae242fb9-6723-4aea-b82a-08118abce5dc",
   "metadata": {},
   "source": [
    "### 注意\n",
    "1. List 写在方括号之间，元素用逗号隔开\n",
    "2. 和字符串一样，List 可以被索引和切片\n",
    "3. List 可以使用 + 操作符进行拼接\n",
    "4. List 中的元素是可以改变的"
   ]
  },
  {
   "cell_type": "markdown",
   "id": "43c5dbdd-0b8c-4e96-8052-1716d1e4aa50",
   "metadata": {},
   "source": [
    "## Tuple（元组）\n",
    "元组（tuple）与列表类似，不同之处在于<font color=\"red\" size=3>元组的元素不能修改</font>。元组写在小括号里，元素之间用逗号隔开,元组中的元素类型也可以不相同"
   ]
  },
  {
   "cell_type": "markdown",
   "id": "cc44e50b-197a-4683-b68e-86159e7724fd",
   "metadata": {},
   "source": [
    "### 元组的构造"
   ]
  },
  {
   "cell_type": "markdown",
   "id": "0e4331b8-80b5-47ea-8e42-858711663837",
   "metadata": {},
   "source": [
    "以小括号包裹元素的方式直接赋值, 构造包含 0 个或 1 个元素的 tuple 是个特殊的问题，所以有一些额外的语法规则"
   ]
  },
  {
   "cell_type": "code",
   "execution_count": 52,
   "id": "24f543d6-cd02-44ab-90c3-931f0de28730",
   "metadata": {},
   "outputs": [
    {
     "name": "stdout",
     "output_type": "stream",
     "text": [
      "(1991, 2014, 'physics', 'math') <class 'tuple'> 4\n"
     ]
    }
   ],
   "source": [
    "tuple_a = (1991, 2014, 'physics', 'math')\n",
    "print(tuple_a, type(tuple_a), len(tuple_a))\n",
    "\n",
    "tup_b = () # 空元组\n",
    "tup_c = (20,) # 一个元素，需要在元素后添加逗号"
   ]
  },
  {
   "cell_type": "code",
   "execution_count": 53,
   "id": "eadff631-4917-4750-91a7-dfaa93b7b38b",
   "metadata": {},
   "outputs": [
    {
     "ename": "TypeError",
     "evalue": "'tuple' object does not support item assignment",
     "output_type": "error",
     "traceback": [
      "\u001b[1;31m---------------------------------------------------------------------------\u001b[0m",
      "\u001b[1;31mTypeError\u001b[0m                                 Traceback (most recent call last)",
      "\u001b[1;32m<ipython-input-53-d4249f7271ce>\u001b[0m in \u001b[0;36m<module>\u001b[1;34m\u001b[0m\n\u001b[1;32m----> 1\u001b[1;33m \u001b[0mtuple_a\u001b[0m\u001b[1;33m[\u001b[0m\u001b[1;36m0\u001b[0m\u001b[1;33m]\u001b[0m \u001b[1;33m=\u001b[0m \u001b[1;36m11\u001b[0m  \u001b[1;31m# 修改元组元素的操作是非法的\u001b[0m\u001b[1;33m\u001b[0m\u001b[1;33m\u001b[0m\u001b[0m\n\u001b[0m",
      "\u001b[1;31mTypeError\u001b[0m: 'tuple' object does not support item assignment"
     ]
    }
   ],
   "source": [
    "tuple_a[0] = 11  # 修改元组元素的操作是非法的"
   ]
  },
  {
   "cell_type": "markdown",
   "id": "da703467-be9f-4491-aa96-544e3ec30d31",
   "metadata": {},
   "source": [
    "虽然 tuple 的元素不可改变，但它可以包含可变的对象，比如 list 列表  "
   ]
  },
  {
   "cell_type": "code",
   "execution_count": 54,
   "id": "5cffc782-92d0-4571-9200-755dca8c63b3",
   "metadata": {},
   "outputs": [
    {
     "name": "stdout",
     "output_type": "stream",
     "text": [
      "([1, '2', 3, True],)\n",
      "([1, '2', 3, False],)\n"
     ]
    }
   ],
   "source": [
    "list_a = [1, \"2\", 3, True]\n",
    "tuple_d = (list_a,)\n",
    "print(tuple_d)\n",
    "list_a[3] = False\n",
    "print(tuple_d)"
   ]
  },
  {
   "cell_type": "markdown",
   "id": "1d00d6b4-97f4-4d45-be0a-a96575b8221f",
   "metadata": {},
   "source": [
    "### 元组的切片\n",
    "\n",
    "元组与字符串类似，可以被索引且下标索引从 0 开始，也可以进行截取/切片\n",
    "\n",
    "其实，可以把字符串看作一种特殊的元组"
   ]
  },
  {
   "cell_type": "code",
   "execution_count": 55,
   "id": "06ef58fb-f292-4e9c-90f7-1033d81c9c2d",
   "metadata": {},
   "outputs": [
    {
     "name": "stdout",
     "output_type": "stream",
     "text": [
      "(1991, 2014, 'physics', 'math')\n",
      "(1991, 2014)\n",
      "(2014,)\n",
      "()\n"
     ]
    }
   ],
   "source": [
    "tuple_a = (1991, 2014, 'physics', 'math')\n",
    "print(tuple_a[:])\n",
    "print(tuple_a[0:2])\n",
    "print(tuple_a[1:-2])\n",
    "print(tuple_a[3:-1])"
   ]
  },
  {
   "cell_type": "markdown",
   "id": "c4bc2ebc-7378-4189-ae1c-3689d7753b83",
   "metadata": {},
   "source": [
    "### 元组的拼接"
   ]
  },
  {
   "cell_type": "markdown",
   "id": "a6a5f451-13de-45c3-98a2-b5922b63e472",
   "metadata": {},
   "source": [
    "元组也支持用 + 操作符  \n",
    "思考：底层只是重新创建了一个元组？"
   ]
  },
  {
   "cell_type": "code",
   "execution_count": 56,
   "id": "452c4651-8c82-452b-898e-ab6be0abd881",
   "metadata": {},
   "outputs": [
    {
     "name": "stdout",
     "output_type": "stream",
     "text": [
      "(1, 2, 3, 4, 5, 6)\n"
     ]
    }
   ],
   "source": [
    "tup1, tup2 = (1, 2, 3), (4, 5, 6)\n",
    "print(tup1+tup2)"
   ]
  },
  {
   "cell_type": "markdown",
   "id": "615b439c-54cb-4268-a78e-1b642d19c712",
   "metadata": {},
   "source": [
    "### 注意\n",
    "1. string、list 和 tuple 都属于 sequence（顺序表，都可以直接索引元素）。\n",
    "2. 与字符串一样，元组的元素不能修改。\n",
    "3. 元组也可以被索引和切片，方法一样。\n",
    "4. 注意构造包含 0 或 1 个元素的元组的特殊语法规则。\n",
    "5. 元组也可以使用 + 操作符进行拼接。"
   ]
  },
  {
   "cell_type": "markdown",
   "id": "1e60c363-c9d3-4f5d-b15b-7aa34675ff38",
   "metadata": {},
   "source": [
    "## Sets（集合）\n",
    "集合（set）是一个无序不重复元素的集，基本功能是进行成员关系测试和消除重复元素。"
   ]
  },
  {
   "cell_type": "markdown",
   "id": "5b6abbfc-e22f-466d-b026-7d7548f34be6",
   "metadata": {},
   "source": [
    "### 集合的创建\n",
    "可以使用大括号 或者 set() 函数创建 set 集合，注意：创建一个空集合必须用 set() 而不是 { }，因为{ }是用来创建一个空字典的"
   ]
  },
  {
   "cell_type": "code",
   "execution_count": 57,
   "id": "631cb9bc-3bd7-4b21-bae9-d44f7fc08846",
   "metadata": {},
   "outputs": [
    {
     "name": "stdout",
     "output_type": "stream",
     "text": [
      "{'Jack', 'Tom', 'Rose', 'Mary', 'Jim'}\n",
      "True\n"
     ]
    }
   ],
   "source": [
    "student = {'Tom', 'Jim', 'Mary', 'Tom', 'Jack', 'Rose'}\n",
    "print(student)   # 重复的元素被自动去掉\n",
    "judge= 'Rose' in student  # membership testing（成员测试）\n",
    "print(judge)"
   ]
  },
  {
   "cell_type": "markdown",
   "id": "ae4e7e2e-105e-48c9-9ffe-c3d91801cbfc",
   "metadata": {},
   "source": [
    "### 集合的运算"
   ]
  },
  {
   "cell_type": "code",
   "execution_count": 58,
   "id": "65c1952a-a2fb-490f-a79b-ee07bf1dc0bf",
   "metadata": {},
   "outputs": [
    {
     "name": "stdout",
     "output_type": "stream",
     "text": [
      "{'b', 'd', 'c', 'a', 'r'}\n",
      "{'z', 'c', 'a', 'm', 'l'}\n"
     ]
    }
   ],
   "source": [
    "set_a = set('abracadabra')\n",
    "set_b = set('alacazam')\n",
    "\n",
    "print(set_a)\n",
    "print(set_b)"
   ]
  },
  {
   "cell_type": "markdown",
   "id": "91344321-1639-47f0-8f83-4642b7032222",
   "metadata": {},
   "source": [
    "**差集运算用 \"-\" 号**"
   ]
  },
  {
   "cell_type": "code",
   "execution_count": 59,
   "id": "2ec2b22d-0bed-4415-9bf6-f54665fcbda1",
   "metadata": {},
   "outputs": [
    {
     "name": "stdout",
     "output_type": "stream",
     "text": [
      "{'b', 'd', 'r'}\n"
     ]
    }
   ],
   "source": [
    "set_c = set_a - set_b\n",
    "print(set_c)"
   ]
  },
  {
   "cell_type": "code",
   "execution_count": 60,
   "id": "1116c2e9-6a2c-48b2-b560-61511c89be09",
   "metadata": {},
   "outputs": [
    {
     "name": "stdout",
     "output_type": "stream",
     "text": [
      "{'m', 'z', 'l'}\n"
     ]
    }
   ],
   "source": [
    "set_c = set_b - set_a\n",
    "print(set_c)"
   ]
  },
  {
   "cell_type": "markdown",
   "id": "c8eb2646-bf6e-4ea1-bffb-ccd600c0ba1a",
   "metadata": {},
   "source": [
    "**并集运算用 \"|\"**"
   ]
  },
  {
   "cell_type": "code",
   "execution_count": 61,
   "id": "e49e8935-0132-4b55-bdeb-d5234d2972c8",
   "metadata": {},
   "outputs": [
    {
     "name": "stdout",
     "output_type": "stream",
     "text": [
      "{'z', 'b', 'd', 'c', 'a', 'm', 'l', 'r'}\n"
     ]
    }
   ],
   "source": [
    "set_c = set_a | set_b\n",
    "print(set_c)"
   ]
  },
  {
   "cell_type": "markdown",
   "id": "cf4695af-1cf7-47e7-9389-e479fa899313",
   "metadata": {},
   "source": [
    "**交集运算用 \"&\"**"
   ]
  },
  {
   "cell_type": "code",
   "execution_count": 62,
   "id": "fe1c4179-1b1b-4fa0-86b2-f1e03141c31c",
   "metadata": {},
   "outputs": [
    {
     "name": "stdout",
     "output_type": "stream",
     "text": [
      "{'a', 'c'}\n"
     ]
    }
   ],
   "source": [
    "set_c = set_a & set_b\n",
    "print(set_c)"
   ]
  },
  {
   "cell_type": "markdown",
   "id": "269cc1b8-c19e-4cd9-9a57-4678baeb570a",
   "metadata": {},
   "source": [
    "**交集的补集用 \"^\"** ——set_a和set_b中不同时存在的元素"
   ]
  },
  {
   "cell_type": "code",
   "execution_count": 63,
   "id": "0a1ca4ad-8bb2-43a4-a8d2-5d17c3576a84",
   "metadata": {},
   "outputs": [
    {
     "name": "stdout",
     "output_type": "stream",
     "text": [
      "{'z', 'b', 'r', 'm', 'd', 'l'}\n"
     ]
    }
   ],
   "source": [
    "set_c = set_a ^ set_b\n",
    "print(set_c)"
   ]
  },
  {
   "cell_type": "markdown",
   "id": "bd0dc340-f657-43df-a211-00b1b00926a2",
   "metadata": {},
   "source": [
    "## Dictionaries（字典）\n",
    "字典（dictionary）是 Python 中另一个非常有用的内置数据类型。\n",
    "\n",
    "字典是一种映射类型（mapping type），它是一个**无序的** 键 : 值对集合。\n",
    "\n",
    "关键字必须使用不可变类型，也就是说：list 和包含可变类型的 tuple 不能做关键字。\n",
    "\n",
    "在同一个字典中，关键字还必须互不相同"
   ]
  },
  {
   "cell_type": "markdown",
   "id": "872a16dd-6166-4848-af64-21b46b2cb2e2",
   "metadata": {},
   "source": [
    "### 字典的创建"
   ]
  },
  {
   "cell_type": "code",
   "execution_count": 64,
   "id": "b8ef6c80-f704-4d10-ae5f-956b7aa7fb15",
   "metadata": {},
   "outputs": [
    {
     "name": "stdout",
     "output_type": "stream",
     "text": [
      "{}\n",
      "{'Jack': 1557, 'Tom': 1320, 'Rose': 1886}\n"
     ]
    }
   ],
   "source": [
    "dic_empty = {}  # 创建空字典\n",
    "print(dic_empty)\n",
    "dic_a = {'Jack':1557, 'Tom':1320, 'Rose':1886}\n",
    "print(dic_a)"
   ]
  },
  {
   "cell_type": "markdown",
   "id": "731ee054-692c-4dbf-aa7b-65a0bef1f1bc",
   "metadata": {},
   "source": [
    "**构造函数 dict()**  \n",
    "构造函数 dict() 可直接从键值对 sequence 中构建字典，当然也可以进行推导"
   ]
  },
  {
   "cell_type": "code",
   "execution_count": 65,
   "id": "ed83deec-658a-4b8d-8fb5-24b4aec07b21",
   "metadata": {},
   "outputs": [
    {
     "name": "stdout",
     "output_type": "stream",
     "text": [
      "{'sape': 4139, 'guido': 4127, 'jack': 4098}\n"
     ]
    }
   ],
   "source": [
    "dic_b = dict([('sape', 4139), ('guido', 4127), ('jack', 4098)])\n",
    "print(dic_b)"
   ]
  },
  {
   "cell_type": "code",
   "execution_count": 66,
   "id": "17952074-d0b6-4727-9cd3-1f9eebd740e2",
   "metadata": {},
   "outputs": [
    {
     "name": "stdout",
     "output_type": "stream",
     "text": [
      "{'sape': 4139, 'guido': 4127, 'jack': 4098}\n"
     ]
    }
   ],
   "source": [
    "dic_c = dict(sape=4139, guido=4127, jack=4098)\n",
    "print(dic_c)"
   ]
  },
  {
   "cell_type": "markdown",
   "id": "4ba69673-98ea-4cd1-96f2-65e32b0f597e",
   "metadata": {},
   "source": [
    "**推导**"
   ]
  },
  {
   "cell_type": "code",
   "execution_count": 67,
   "id": "3ef5d564-2d85-4ffa-abcb-182f45760c6b",
   "metadata": {},
   "outputs": [
    {
     "name": "stdout",
     "output_type": "stream",
     "text": [
      "{2: 4, 4: 16, 6: 36}\n"
     ]
    }
   ],
   "source": [
    "dic_d = {x: x**2 for x in (2, 4, 6)}\n",
    "print(dic_d)"
   ]
  },
  {
   "cell_type": "markdown",
   "id": "f24ed8a4-2fec-44b1-8cb9-289dc18ee142",
   "metadata": {},
   "source": [
    "### 字典的操作"
   ]
  },
  {
   "cell_type": "markdown",
   "id": "7e9e68c7-3643-4e1d-a475-709892f47a16",
   "metadata": {},
   "source": [
    "**主要的操作：通过key查询**"
   ]
  },
  {
   "cell_type": "code",
   "execution_count": 68,
   "id": "a115a802-43d2-41aa-a9bf-59a046ae6c54",
   "metadata": {},
   "outputs": [
    {
     "name": "stdout",
     "output_type": "stream",
     "text": [
      "1557\n"
     ]
    }
   ],
   "source": [
    "dic_val = dic_a['Jack']\n",
    "print(dic_val)"
   ]
  },
  {
   "cell_type": "markdown",
   "id": "84128618-6c5a-483c-b45d-dd267f5aa9a2",
   "metadata": {},
   "source": [
    "**删除一个键值对**"
   ]
  },
  {
   "cell_type": "code",
   "execution_count": 69,
   "id": "2f2a12d0-2c55-404d-b057-a2caf6b8cdaf",
   "metadata": {},
   "outputs": [
    {
     "name": "stdout",
     "output_type": "stream",
     "text": [
      "{'Jack': 1557, 'Tom': 1320}\n"
     ]
    }
   ],
   "source": [
    "del dic_a['Rose']\n",
    "print(dic_a)"
   ]
  },
  {
   "cell_type": "markdown",
   "id": "0092545f-4057-4274-bcfc-cfae4b5266b5",
   "metadata": {},
   "source": [
    "**添加一个键值对**"
   ]
  },
  {
   "cell_type": "code",
   "execution_count": 70,
   "id": "62708eb5-241b-469d-b030-3b0aa306f997",
   "metadata": {},
   "outputs": [
    {
     "name": "stdout",
     "output_type": "stream",
     "text": [
      "{'Jack': 1557, 'Tom': 1320, 'Mary': 4127}\n"
     ]
    }
   ],
   "source": [
    "dic_a['Mary'] = 4127  # 添加一个键值对\n",
    "print(dic_a)"
   ]
  },
  {
   "cell_type": "markdown",
   "id": "64d3037a-3ee9-463d-9e9f-2e051221dac5",
   "metadata": {},
   "source": [
    "**返回所有 key 组成的 list**"
   ]
  },
  {
   "cell_type": "code",
   "execution_count": 71,
   "id": "c63eb50b-caf1-4204-8800-87fe53df3f5b",
   "metadata": {},
   "outputs": [
    {
     "name": "stdout",
     "output_type": "stream",
     "text": [
      "['Jack', 'Tom', 'Mary']\n"
     ]
    }
   ],
   "source": [
    "dic_val_list = list(dic_a.keys())\n",
    "print(dic_val_list)"
   ]
  },
  {
   "cell_type": "markdown",
   "id": "8f90d72b-9c43-424b-a862-7a5d5b9cddeb",
   "metadata": {},
   "source": [
    "**按key排序**"
   ]
  },
  {
   "cell_type": "code",
   "execution_count": 72,
   "id": "08e1b6da-c679-4ac6-bc23-98838c8e26e4",
   "metadata": {},
   "outputs": [
    {
     "name": "stdout",
     "output_type": "stream",
     "text": [
      "{'Jack': 1557, 'Tom': 1320, 'Mary': 4127}\n"
     ]
    }
   ],
   "source": [
    "sorted(dic_a.keys())\n",
    "print(dic_a)"
   ]
  },
  {
   "cell_type": "markdown",
   "id": "da005789-363c-4b81-b871-4c7b220d0720",
   "metadata": {},
   "source": [
    "**成员测试**"
   ]
  },
  {
   "cell_type": "code",
   "execution_count": 73,
   "id": "9fdd8a20-4e2c-47ae-8140-05bf8481b699",
   "metadata": {},
   "outputs": [
    {
     "name": "stdout",
     "output_type": "stream",
     "text": [
      "True\n",
      "False\n"
     ]
    }
   ],
   "source": [
    "print('Tom' in dic_a)\n",
    "print('Mary' not in dic_a)"
   ]
  },
  {
   "cell_type": "markdown",
   "id": "9d5718d7-b3fc-41b6-a12f-f0064c65bdfb",
   "metadata": {},
   "source": [
    "另外，字典类型也有一些内置的函数，例如 clear()、keys()、values() 等"
   ]
  },
  {
   "cell_type": "code",
   "execution_count": 74,
   "id": "c39b8050-3efe-4477-a282-5cb9adfb34e8",
   "metadata": {},
   "outputs": [
    {
     "name": "stdout",
     "output_type": "stream",
     "text": [
      "dict_values([1557, 1320, 1886])\n",
      "[1557, 1320, 1886]\n",
      "{1320, 1557, 1886}\n",
      "(1557, 1320, 1886)\n"
     ]
    }
   ],
   "source": [
    "dic_a = {'Jack':1557, 'Tom':1320, 'Rose':1886}\n",
    "\n",
    "dic_vals = dic_a.values()\n",
    "print(dic_vals)\n",
    "\n",
    "dic_vals = list(dic_a.values())\n",
    "print(dic_vals)\n",
    "dic_vals = set(dic_a.values())\n",
    "print(dic_vals)\n",
    "dic_vals = tuple(dic_a.values())\n",
    "print(dic_vals)"
   ]
  },
  {
   "cell_type": "markdown",
   "id": "0587ed33-1c5c-4938-8749-6d4f00cc6c19",
   "metadata": {},
   "source": [
    "<font color=\"red\">Tip：</font>  \n",
    "通过dic_a.values()我们拿到的应该只是一个引用，因为我们调用clear()函数的时候，dic_vals对应也没有数据了，运行下面的代码验证。有点类似于Java中的Arrays.asList()"
   ]
  },
  {
   "cell_type": "code",
   "execution_count": 75,
   "id": "b803d197-0e9b-4166-8824-bdccf0409b97",
   "metadata": {},
   "outputs": [
    {
     "name": "stdout",
     "output_type": "stream",
     "text": [
      "[1557, 1320, 1886]\n",
      "{}\n"
     ]
    }
   ],
   "source": [
    "dic_vals = list(dic_a.values())\n",
    "print(dic_vals)\n",
    "\n",
    "dic_a.clear()\n",
    "print(dic_a)"
   ]
  },
  {
   "attachments": {
    "0641c20e-5070-4e6f-bc05-8d461e23f364.png": {
     "image/png": "[encoded data removed]"
    }
   },
   "cell_type": "markdown",
   "id": "2020f62e-692f-4304-ac5a-5d713a9ac36b",
   "metadata": {},
   "source": [
    "![image.png](attachment:0641c20e-5070-4e6f-bc05-8d461e23f364.png)"
   ]
  },
  {
   "cell_type": "markdown",
   "id": "e9be0645-2378-435b-aa64-241d375365d3",
   "metadata": {},
   "source": [
    "### 注意\n",
    "1. 字典是一种映射类型，它的元素是键值对  \n",
    "2. 字典的关键字必须为不可变类型，且不能重复。\n",
    "3. 创建空字典使用 { }"
   ]
  },
  {
   "cell_type": "markdown",
   "id": "d693f1cc-5fec-42dc-80ca-9d76d4a9c500",
   "metadata": {},
   "source": [
    "# 变量命名\n",
    "\n",
    "对于每个变量我们需要给它取一个名字，就如同我们每个人都有属于自己的响亮的名字一样。在Python中，变量命名需要遵循以下这些必须遵守硬性规则和强烈建议遵守的非硬性规则。\n",
    "\n",
    "- 硬性规则：\n",
    "  - 变量名由字母（广义的Unicode字符，不包括特殊字符）、数字和下划线构成，数字不能开头。\n",
    "  - 大小写敏感（大写的`a`和小写的`A`是两个不同的变量）。\n",
    "  - 不要跟关键字（有特殊含义的单词，后面会讲到）和系统保留字（如函数、模块等的名字）冲突。\n",
    "- PEP 8要求：\n",
    "  - 用小写字母拼写，多个单词用下划线连接。\n",
    "  - 受保护的实例属性用单个下划线开头（后面会讲到）。\n",
    "  - 私有的实例属性用两个下划线开头（后面会讲到）。\n",
    "\n",
    "当然，作为一个专业的程序员，给变量（事实上应该是所有的标识符）命名时做到见名知意也是非常重要的。 \n",
    "其次，每个公司可能都有自己的规范，为了代码的可读性，<font color=#5d2b2b size=3>一切以公司的规范为准！！！</font>"
   ]
  }
 ],
 "metadata": {
  "kernelspec": {
   "display_name": "Python 3",
   "language": "python",
   "name": "python3"
  },
  "language_info": {
   "codemirror_mode": {
    "name": "ipython",
    "version": 3
   },
   "file_extension": ".py",
   "mimetype": "text/x-python",
   "name": "python",
   "nbconvert_exporter": "python",
   "pygments_lexer": "ipython3",
   "version": "3.8.10"
  },
  "toc-autonumbering": false,
  "toc-showcode": false,
  "toc-showmarkdowntxt": false,
  "toc-showtags": false
 },
 "nbformat": 4,
 "nbformat_minor": 5
}
